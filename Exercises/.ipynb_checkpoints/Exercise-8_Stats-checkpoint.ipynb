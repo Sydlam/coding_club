{
 "cells": [
  {
   "cell_type": "markdown",
   "metadata": {},
   "source": [
    "# R Anatomy"
   ]
  },
  {
   "cell_type": "markdown",
   "metadata": {},
   "source": [
    "<table>\n",
    "    <td {text-align: center;}>\n",
    "    <caption><b>Arithmatic Operators</b></caption>\n",
    " <tr>\n",
    "    <th>Code/Operator</th>\n",
    "    <th>Use</th>\n",
    "  </tr>\n",
    "  <tr>\n",
    "    <td>a + b </td>\n",
    "    <td>Sums two variables</td>\n",
    "  </tr>\n",
    "  <tr>\n",
    "    <td>a - b </td>\n",
    "    <td>Subtracts two variables</td>\n",
    "  </tr>\n",
    "  <tr>\n",
    "    <td>a * b </td>\n",
    "    <td>Multiplies two variables</td>\n",
    "  </tr>\n",
    " <tr>\n",
    "    <td>a / b </td>\n",
    "    <td>Divides two variables</td>\n",
    "  </tr>\n",
    " <tr>\n",
    "    <td>a ^ b </td>\n",
    "    <td>Exponentation of a variable</td>\n",
    "  </tr>\n",
    " <tr>\n",
    "    <td>a %% b </td>\n",
    "    <td>Remainder of a variable</td>\n",
    "  </tr>\n",
    " <tr>\n",
    "    <td>a %/% b </td>\n",
    "    <td>Integer division of variables</td>\n",
    "  </tr>\n",
    "</table>"
   ]
  },
  {
   "cell_type": "code",
   "execution_count": null,
   "metadata": {},
   "outputs": [],
   "source": []
  }
 ],
 "metadata": {
  "kernelspec": {
   "display_name": "Python 3",
   "language": "python",
   "name": "python3"
  },
  "language_info": {
   "codemirror_mode": {
    "name": "ipython",
    "version": 3
   },
   "file_extension": ".py",
   "mimetype": "text/x-python",
   "name": "python",
   "nbconvert_exporter": "python",
   "pygments_lexer": "ipython3",
   "version": "3.7.0"
  }
 },
 "nbformat": 4,
 "nbformat_minor": 2
}
