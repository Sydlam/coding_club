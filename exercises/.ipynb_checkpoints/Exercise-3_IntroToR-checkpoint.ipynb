{
 "cells": [
  {
   "cell_type": "markdown",
   "id": "72679a99-e7ee-41a1-a81d-ce85ae35f7c8",
   "metadata": {},
   "source": [
    "# Intro to Using <b><span style=\"color:CornflowerBlue\">RStudio</span> "
   ]
  },
  {
   "cell_type": "markdown",
   "id": "df7fda6a-be3b-4710-aba1-76387b1cf5fd",
   "metadata": {
    "tags": []
   },
   "source": [
    "###### This notebook will serve as a place for you to insert the outputs from your RStudio console."
   ]
  },
  {
   "cell_type": "markdown",
   "id": "295c1603-fafe-417b-8ef1-4a27f4757397",
   "metadata": {},
   "source": [
    "<img alt=\"cat on a laptop\" width=\"300\" height=\"100\" src=\"https://media.tenor.com/mMkJeuyHkRYAAAAi/cat-cat-on-computer.gif\">"
   ]
  },
  {
   "cell_type": "markdown",
   "id": "8fa4eedb-22fb-4917-beba-dbef6c1f8eb2",
   "metadata": {},
   "source": [
    "## Load Necessary Packages"
   ]
  },
  {
   "cell_type": "code",
   "execution_count": null,
   "id": "641d08a6-10e1-495e-84cb-d0559f8c05ab",
   "metadata": {},
   "outputs": [],
   "source": [
    "library(tidyverse)\n",
    "library(dyplr)"
   ]
  },
  {
   "cell_type": "markdown",
   "id": "c51b6d13-e731-464b-b2c6-d1d6909fe5bb",
   "metadata": {},
   "source": [
    "The package MASS is included in dyplr, this is where we will load our cat dataframe from"
   ]
  },
  {
   "cell_type": "markdown",
   "id": "8cc5064a-2fa1-4caf-be31-6d89aecd21bd",
   "metadata": {},
   "source": [
    "## Reading our <b><span style=\"color:CornflowerBlue\">Dataframe</span> "
   ]
  },
  {
   "cell_type": "markdown",
   "id": "2c0a3a68-8f21-4001-b79f-5162fdf26dbd",
   "metadata": {},
   "source": [
    "<span style=\"color:CornflowerBlue\"> When loading our df, we want to:</span> \n",
    "<ul>\n",
    "  <li>See each category</li>\n",
    "  <li>Identify variables</li>\n",
    "  <li>Identify within category groups</li>\n",
    "</ul>"
   ]
  },
  {
   "cell_type": "code",
   "execution_count": null,
   "id": "3006d36e-59bb-487f-b966-ff5098be0317",
   "metadata": {
    "tags": []
   },
   "outputs": [],
   "source": [
    "data (cats, packages=\"MASS\")"
   ]
  },
  {
   "cell_type": "markdown",
   "id": "f2af0295-e85a-4ddf-b12d-553e2cd71e2a",
   "metadata": {},
   "source": [
    "df <- cats "
   ]
  },
  {
   "cell_type": "markdown",
   "id": "e05f6753-d522-43e6-90cb-b77b5f57a572",
   "metadata": {},
   "source": [
    "This allows for us to see the 'df' variable in our environment. Variables and observations will enumerate with any variable that contains a string. Plus, when we want to call upon our data, we can simply us 'df'."
   ]
  },
  {
   "cell_type": "code",
   "execution_count": null,
   "id": "aa29c5b0-c124-4124-b633-5141da81df71",
   "metadata": {},
   "outputs": [],
   "source": [
    "print(df) #Provides full df list"
   ]
  },
  {
   "cell_type": "code",
   "execution_count": null,
   "id": "35a2c29e-8e61-4a75-8cf0-2ad88815bc03",
   "metadata": {},
   "outputs": [],
   "source": [
    "head(df) #Provides a table format summary of the first df entries"
   ]
  },
  {
   "cell_type": "code",
   "execution_count": null,
   "id": "130107b7-3a78-4786-9834-d7c641d5a682",
   "metadata": {},
   "outputs": [],
   "source": [
    "tail(df) #Provides a table format summary of the last df entries"
   ]
  },
  {
   "cell_type": "markdown",
   "id": "ec7e7f20-b1d9-4755-9552-a2eca0706f88",
   "metadata": {},
   "source": [
    "<img alt=\"cat on another laptop\" width=\"300\" height=\"300\" src=\"https://media3.giphy.com/media/F73KLZL9eAfDcDQFAt/giphy.gif?cid=ecf05e47bpm2k8amucn9fp5kswn70up6jhhimxavj3b9slgx&ep=v1_gifs_related&rid=giphy.gif\">"
   ]
  },
  {
   "cell_type": "markdown",
   "id": "08746df2-aa4b-43b8-b614-b9dbf254e8dc",
   "metadata": {},
   "source": [
    "# Let's Get <b><em><span style=\"color:CornflowerBlue\">Visual</span> "
   ]
  },
  {
   "cell_type": "markdown",
   "id": "ac1b5687-0b45-44ca-804a-5ccc3277fa24",
   "metadata": {},
   "source": [
    "#### Basic ggplot"
   ]
  },
  {
   "cell_type": "code",
   "execution_count": null,
   "id": "d7553e08-3c58-4bcb-a800-1dc0db5dfa06",
   "metadata": {},
   "outputs": [],
   "source": [
    "ggplot(data=df, aes(x=Hwt, y=Bwt))+geom_point()"
   ]
  },
  {
   "attachments": {
    "28b26d07-8339-478e-863c-96a6bc1f52c5.png": {
     "image/png": "[encoded data removed]"
    }
   },
   "cell_type": "markdown",
   "id": "5402facd-aa2e-45b3-a372-a839b43e790f",
   "metadata": {},
   "source": [
    "![Rplot.png](attachment:28b26d07-8339-478e-863c-96a6bc1f52c5.png)"
   ]
  },
  {
   "cell_type": "markdown",
   "id": "548e681d-9d35-4fd3-8cb0-ade9312712fc",
   "metadata": {},
   "source": [
    "#### Boring....How can we improve?\n",
    "<ul> \n",
    "<li> Axis titles \n",
    "<li> Graph title \n",
    "<li> Color! \n",
    "<ul/>"
   ]
  },
  {
   "attachments": {
    "a62cf162-7e36-47e9-91e7-aef1f828cfde.png": {
     "image/png": "[encoded data removed]"
    }
   },
   "cell_type": "markdown",
   "id": "4174ba23-3d62-4063-96ec-bda9308d5849",
   "metadata": {},
   "source": [
    "![less_basic.png](attachment:a62cf162-7e36-47e9-91e7-aef1f828cfde.png)"
   ]
  },
  {
   "cell_type": "markdown",
   "id": "349cf01d-59f3-435a-bd95-bf056509b347",
   "metadata": {},
   "source": [
    "#### Less boring! Keep going..."
   ]
  },
  {
   "attachments": {
    "75870d3c-1f2b-433a-b858-2f2861eb8b05.png": {
     "image/png": "[encoded data removed]"
    }
   },
   "cell_type": "markdown",
   "id": "fdc38407-a9e1-4207-8be4-8e3cf5fabe89",
   "metadata": {
    "tags": []
   },
   "source": [
    "![snazzy.png](attachment:75870d3c-1f2b-433a-b858-2f2861eb8b05.png)"
   ]
  },
  {
   "cell_type": "markdown",
   "id": "8dbdb3b9-c398-42cf-999a-df360471428b",
   "metadata": {},
   "source": [
    "# SLAY !"
   ]
  },
  {
   "cell_type": "markdown",
   "id": "e94999ca-592d-4775-942b-41866994881e",
   "metadata": {},
   "source": [
    "## But, time to slay even harder..."
   ]
  },
  {
   "cell_type": "markdown",
   "id": "3c2e22df-137c-4c2c-b5b0-98c9a877acf4",
   "metadata": {},
   "source": [
    "### Now, personalize through the 'theme()' function"
   ]
  },
  {
   "cell_type": "raw",
   "id": "bb458424-9c55-4d66-9e91-d047551e7082",
   "metadata": {},
   "source": [
    "Using the library(lattice) package!"
   ]
  },
  {
   "attachments": {
    "1839e69a-05ff-4cd7-9fca-103f4166ada9.png": {
     "image/png": "[encoded data removed]"
    }
   },
   "cell_type": "markdown",
   "id": "bbcf6244-abf1-402d-8d92-b1cb908de892",
   "metadata": {},
   "source": [
    "![supersnazzy.png](attachment:1839e69a-05ff-4cd7-9fca-103f4166ada9.png)"
   ]
  },
  {
   "cell_type": "code",
   "execution_count": null,
   "id": "e61cd008-c86f-455f-b2c9-6b6c435bb9cd",
   "metadata": {},
   "outputs": [],
   "source": []
  }
 ],
 "metadata": {
  "kernelspec": {
   "display_name": "Python 3 (ipykernel)",
   "language": "python",
   "name": "python3"
  },
  "language_info": {
   "codemirror_mode": {
    "name": "ipython",
    "version": 3
   },
   "file_extension": ".py",
   "mimetype": "text/x-python",
   "name": "python",
   "nbconvert_exporter": "python",
   "pygments_lexer": "ipython3",
   "version": "3.9.13"
  }
 },
 "nbformat": 4,
 "nbformat_minor": 5
}
