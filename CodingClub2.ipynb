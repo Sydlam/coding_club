{
 "cells": [
  {
   "cell_type": "markdown",
   "id": "1a0ee22e-e147-4c1c-9717-326240e7879a",
   "metadata": {},
   "source": [
    "# [Strings](https://docs.python.org/3/library/stdtypes.html#text-sequence-type-str)"
   ]
  },
  {
   "cell_type": "markdown",
   "id": "57569d82-b3b8-4060-aeef-2a2530e0c186",
   "metadata": {},
   "source": [
    "#### Strings are a sequence of characters - this can be letters, numbers, symbols, or even spaces. When you want to work with words or sentences while coding, ou put them inside a string. It's like putting the words or letters inside a container so that the computer knows, \"Hey, this is a bunch of text, not numbers.\""
   ]
  },
  {
   "cell_type": "markdown",
   "id": "26b10238-5a76-4cca-ab10-de6ee1cac392",
   "metadata": {},
   "source": [
    "##### Let's make a string! Strings must be contained in either quotation marks or apostrophe's. "
   ]
  },
  {
   "cell_type": "markdown",
   "id": "cbda5ae4-9aba-4fcc-a77a-f0d8ef57fba9",
   "metadata": {},
   "source": [
    "####  <span style=\"color:purple\">Exercise 1: Make a string titled \"my_string\" and print it out</span> "
   ]
  },
  {
   "cell_type": "markdown",
   "id": "7e3ed3e2-ed2f-4715-a122-29646094d7bb",
   "metadata": {},
   "source": [
    "<details>\n",
    "  <summary style=\"color: red;\">Click to reveal answer</summary>\n",
    "  \n",
    "my_string = \"I love coding club!\"\n",
    "    \n",
    "my_string\n",
    "\n",
    "\n",
    "  \n",
    " \n",
    "</details>\n"
   ]
  },
  {
   "cell_type": "markdown",
   "id": "1b962a44-80aa-4636-923d-11bc31cdc077",
   "metadata": {},
   "source": [
    "***"
   ]
  },
  {
   "cell_type": "markdown",
   "id": "37faf7da-d55a-46ed-a3dc-2befe302f038",
   "metadata": {},
   "source": [
    "### <span style=\"color:palevioletred\">f-strings</span>"
   ]
  },
  {
   "cell_type": "markdown",
   "id": "632aa4ee-86c7-4225-b7c1-12fd95795453",
   "metadata": {
    "tags": []
   },
   "source": [
    "#### In coding, we often need to create messages that include both text (like words and sentences) and values (like numbers). F-strings are a special way to easily mix these two things together in Python. \n",
    "\n",
    "#### **This will be especially useful when coding in psychopy!** "
   ]
  },
  {
   "cell_type": "markdown",
   "id": "0eede287-176c-4d14-9b65-1b1ae4286af6",
   "metadata": {},
   "source": [
    "##### You start an f-string with the letter \"f\" before your string of text. Then, you can put curly braces {} inside the string where you want to include values. These curly braces act like placeholders, and you can put variables or expressions inside them. When you run the code, Python replaces the curly braces with the actual values.\n",
    "\n",
    "##### For example: Wilbur is 2 years old"
   ]
  },
  {
   "cell_type": "code",
   "execution_count": 23,
   "id": "94b121f0-40fb-48b6-9d3e-d98ebf32dcc1",
   "metadata": {},
   "outputs": [
    {
     "name": "stdout",
     "output_type": "stream",
     "text": [
      "Wilbur is 2 years old! \n"
     ]
    }
   ],
   "source": [
    "kitty_cat_age = 2\n",
    "\n",
    "message = f\"Wilbur is {kitty_cat_age} years old! \"\n",
    "\n",
    "print(message)"
   ]
  },
  {
   "cell_type": "markdown",
   "id": "2997b1cb-b085-4007-a87c-59fb6ee610ea",
   "metadata": {
    "tags": []
   },
   "source": [
    "####  <span style=\"color:purple\">Exercise 2: Replicate this sentence \"Hi, my friend Alice! We've been friends for 3 years.\" Use the variables \"friend_name\" and \"years_known\" to code in the corresponding info  </span> "
   ]
  },
  {
   "cell_type": "markdown",
   "id": "7f59801d-0efd-4e10-a050-3ca7ea2df2c0",
   "metadata": {},
   "source": [
    "<details>\n",
    "  <summary style=\"color: red;\">Click to reveal answer</summary>\n",
    "  \n",
    "friend_name = \"Alice\"\n",
    "years_known = 3\n",
    "\n",
    "message = f\"Hi, my friend {friend_name}! We've been friends for {years_known} years.\"\n",
    "\n",
    "print(message)\n",
    "\n",
    "\n",
    "  \n",
    " \n",
    "</details>\n"
   ]
  },
  {
   "cell_type": "markdown",
   "id": "772bbcc0-b421-4d61-b495-6dbd10511ca6",
   "metadata": {},
   "source": [
    "***"
   ]
  },
  {
   "cell_type": "markdown",
   "id": "0fd93b37-28de-40ee-b7c2-0170c6ebbbb7",
   "metadata": {},
   "source": [
    "#### Here are some helpful pages for some more string functions you can use!\n",
    "\n",
    "- https://jerry-git.github.io/learn-python3/notebooks/beginner/html/01_strings.html\n",
    "- https://www.codecademy.com/learn/learn-python-3/modules/learn-python3-strings/cheatsheet"
   ]
  },
  {
   "cell_type": "markdown",
   "id": "ec8b904f-39da-4532-bf3c-a1eddf48e205",
   "metadata": {},
   "source": [
    "#### If you ever need help or want a quick overview of a built in python function, you can always use help(function_name) to get some quick info!\n",
    "\n",
    "##### Heres an example on using help to explain the function str.join :"
   ]
  },
  {
   "cell_type": "code",
   "execution_count": 13,
   "id": "27612421-cc69-4584-b356-a356492ba608",
   "metadata": {},
   "outputs": [],
   "source": [
    "help(str.join)"
   ]
  },
  {
   "cell_type": "markdown",
   "id": "988724c3-301e-4e73-9921-b2a41b533e14",
   "metadata": {},
   "source": [
    "***"
   ]
  },
  {
   "cell_type": "markdown",
   "id": "bc226b3a-d81d-460d-aeae-b1700805ffa1",
   "metadata": {},
   "source": [
    "# [Numbers](https://jerry-git.github.io/learn-python3/notebooks/beginner/html/02_numbers.html)"
   ]
  },
  {
   "cell_type": "markdown",
   "id": "41099c6d-0e4f-4c90-b2a3-88fb471a2d2f",
   "metadata": {},
   "source": [
    "#### In Python, there are several different types of number formats that you can work with. Here are some main types:"
   ]
  },
  {
   "cell_type": "markdown",
   "id": "fe1f8b3d-6ad5-4b75-9794-c121ebe178c2",
   "metadata": {
    "tags": []
   },
   "source": [
    "###  <span style=\"color:palevioletred\">Integer ('int') </span>"
   ]
  },
  {
   "cell_type": "markdown",
   "id": "e67c214f-6b72-41f5-a74f-ae433cca2e09",
   "metadata": {
    "tags": []
   },
   "source": [
    "#####  Integers are whole numbers, both positive and negative, without any decimal points. They are used for counting, indexing, and performing arithmetic operations on whole numbers."
   ]
  },
  {
   "cell_type": "code",
   "execution_count": 24,
   "id": "ebc4468f-7177-4f0d-80f3-9665fbd2e5d4",
   "metadata": {},
   "outputs": [],
   "source": [
    "x = 5"
   ]
  },
  {
   "cell_type": "markdown",
   "id": "e2901afe-5fa8-462e-83cf-cf5e3659a49f",
   "metadata": {},
   "source": [
    "###  <span style=\"color:palevioletred\">Float ('float') </span>"
   ]
  },
  {
   "cell_type": "markdown",
   "id": "e6ecb27f-8822-44cc-9d63-24f9cfbf58a8",
   "metadata": {},
   "source": [
    "##### Floats are numbers with decimal points. Floats are used for precise calculations that involve decimal fractions."
   ]
  },
  {
   "cell_type": "code",
   "execution_count": 26,
   "id": "873ffd3f-a244-404f-9c7c-7a01d1be34f2",
   "metadata": {},
   "outputs": [],
   "source": [
    "pi = 3.14159"
   ]
  },
  {
   "cell_type": "markdown",
   "id": "fe9f8201-b181-4b95-95c5-70665bb30061",
   "metadata": {},
   "source": [
    "###  <span style=\"color:palevioletred\">Complex ('complex') </span>"
   ]
  },
  {
   "cell_type": "markdown",
   "id": "b43db5b9-f215-4c65-9ee3-22daed573ace",
   "metadata": {},
   "source": [
    "##### Complex numbers consist of a real part and an imaginary part. "
   ]
  },
  {
   "cell_type": "code",
   "execution_count": 27,
   "id": "0876ee11-e50f-430c-adec-8483a9e71d56",
   "metadata": {},
   "outputs": [
    {
     "data": {
      "text/plain": [
       "(-4+7j)"
      ]
     },
     "execution_count": 27,
     "metadata": {},
     "output_type": "execute_result"
    }
   ],
   "source": [
    "z = 2 + 3j\n",
    "x = 1+ 2j\n",
    "z*x"
   ]
  },
  {
   "cell_type": "markdown",
   "id": "c29b404f-ce99-4bbd-8458-36d78342a89f",
   "metadata": {},
   "source": [
    "###  <span style=\"color:palevioletred\">Boolean ('bool') </span>"
   ]
  },
  {
   "cell_type": "markdown",
   "id": "542f246e-239b-4861-b854-dfc26534241a",
   "metadata": {},
   "source": [
    "##### While not strictly a number format, booleans are used to represent true and false values. They are often used in conditional statements and logical operations."
   ]
  },
  {
   "cell_type": "code",
   "execution_count": 30,
   "id": "f6434eab-8f26-4618-b66d-436baac5bf5f",
   "metadata": {},
   "outputs": [],
   "source": [
    "is_hot = True\n",
    "is_cold = False"
   ]
  },
  {
   "cell_type": "markdown",
   "id": "2f329e14-836c-40de-a965-4cf533b3bf1f",
   "metadata": {},
   "source": [
    "*** "
   ]
  },
  {
   "cell_type": "markdown",
   "id": "2b7f694a-9216-4440-ac70-fe5979337b82",
   "metadata": {},
   "source": [
    "###  <span style=\"color:palevioletred\">Math Operations! </span>"
   ]
  },
  {
   "cell_type": "markdown",
   "id": "48e8ae69-58b8-461d-be44-db96e6018327",
   "metadata": {},
   "source": [
    "#### Besides the common math operations, some useful math operators in python include floor division, modulus and power  "
   ]
  },
  {
   "cell_type": "code",
   "execution_count": 33,
   "id": "3ba4bf95-64a3-469d-b76e-cf79e0a60a39",
   "metadata": {},
   "outputs": [
    {
     "data": {
      "text/plain": [
       "1"
      ]
     },
     "execution_count": 33,
     "metadata": {},
     "output_type": "execute_result"
    }
   ],
   "source": [
    "9 // 5"
   ]
  },
  {
   "cell_type": "code",
   "execution_count": 34,
   "id": "151198c5-826e-489c-a406-ca367b64fc6f",
   "metadata": {},
   "outputs": [
    {
     "data": {
      "text/plain": [
       "2"
      ]
     },
     "execution_count": 34,
     "metadata": {},
     "output_type": "execute_result"
    }
   ],
   "source": [
    "7 % 5"
   ]
  },
  {
   "cell_type": "code",
   "execution_count": 35,
   "id": "154ed728-737e-4c7f-949f-772bf3215830",
   "metadata": {},
   "outputs": [
    {
     "data": {
      "text/plain": [
       "8"
      ]
     },
     "execution_count": 35,
     "metadata": {},
     "output_type": "execute_result"
    }
   ],
   "source": [
    "2 ** 3"
   ]
  },
  {
   "cell_type": "markdown",
   "id": "7d8bc282-049a-4f1c-a01e-c3917a910b8f",
   "metadata": {},
   "source": [
    "#### **Keep in mind that mathematical precedence applies !**"
   ]
  },
  {
   "cell_type": "code",
   "execution_count": 45,
   "id": "a529386f-05c4-44c5-b871-155ad86dbb5e",
   "metadata": {},
   "outputs": [
    {
     "name": "stdout",
     "output_type": "stream",
     "text": [
      "3.0\n",
      "2.5\n"
     ]
    }
   ],
   "source": [
    "print(1 + 2**2 * 3 / 6)\n",
    "print((1 + 2**2) * 3 / 6)"
   ]
  },
  {
   "cell_type": "markdown",
   "id": "7fd7a17f-c3b7-4b56-9581-e1d103ac0444",
   "metadata": {},
   "source": [
    "*** "
   ]
  },
  {
   "cell_type": "markdown",
   "id": "e7c7d3f5-3c2f-48a7-8f89-8de3430832a6",
   "metadata": {},
   "source": [
    "####  <span style=\"color:purple\">Exercise 3: Solve the following mathematical formula in python given that a = 2, b =3, and c = 2. Store each integer under the corresponding variable name  </span> "
   ]
  },
  {
   "cell_type": "markdown",
   "id": "0a220247-0811-49ce-b719-6527fca9c673",
   "metadata": {},
   "source": [
    " $result = 6a^{3}- \\frac{8b^{2}}{4c}+11$"
   ]
  },
  {
   "cell_type": "code",
   "execution_count": 49,
   "id": "c85bc373-25fa-4e07-980e-af0d1a39c1c7",
   "metadata": {},
   "outputs": [],
   "source": [
    "# Your formula here: \n",
    "result = "
   ]
  },
  {
   "cell_type": "code",
   "execution_count": 50,
   "id": "69c94479-fa4f-4a02-882e-d7dabb51ccf0",
   "metadata": {},
   "outputs": [
    {
     "ename": "AssertionError",
     "evalue": "",
     "output_type": "error",
     "traceback": [
      "\u001b[0;31m---------------------------------------------------------------------------\u001b[0m",
      "\u001b[0;31mAssertionError\u001b[0m                            Traceback (most recent call last)",
      "\u001b[0;32m/var/folders/mp/9ydvy8fs7nqb9h4j545cqv900000gn/T/ipykernel_14855/3209009256.py\u001b[0m in \u001b[0;36m<module>\u001b[0;34m\u001b[0m\n\u001b[0;32m----> 1\u001b[0;31m \u001b[0;32massert\u001b[0m \u001b[0mresult\u001b[0m \u001b[0;34m==\u001b[0m \u001b[0;36m50\u001b[0m\u001b[0;34m\u001b[0m\u001b[0;34m\u001b[0m\u001b[0m\n\u001b[0m",
      "\u001b[0;31mAssertionError\u001b[0m: "
     ]
    }
   ],
   "source": [
    "assert result == 50"
   ]
  },
  {
   "cell_type": "markdown",
   "id": "9bdb2f73-f611-44cf-b49b-ddb491d22d64",
   "metadata": {},
   "source": [
    "<details>\n",
    "  <summary style=\"color: red;\">Click to reveal answer</summary>\n",
    "  \n",
    "a =2\n",
    "b = 3\n",
    "c = 2\n",
    "\n",
    "result = 6*(a*a) - 8*((b*b)/(4*c)) + 11\n",
    "  \n",
    "assert result == 50\n",
    "    \n",
    "</details>"
   ]
  },
  {
   "cell_type": "markdown",
   "id": "7d941ea7-7876-412b-9d8a-a5ea9eac5985",
   "metadata": {},
   "source": [
    "*** "
   ]
  },
  {
   "cell_type": "markdown",
   "id": "99100186-73e3-4910-a7db-4a7dc4d8d74a",
   "metadata": {},
   "source": [
    "# [Conditionals](https://docs.python.org/3/c-api/bool.html?highlight=boolean)"
   ]
  },
  {
   "cell_type": "markdown",
   "id": "b676db22-a383-43d3-905f-c144e454e5cd",
   "metadata": {},
   "source": [
    "#### Boolean operators are used to perform logical operations on boolean values, which are values that can be either True or False. These operators allow you to combine, manipulate, and compare boolean values to make decisions in your code."
   ]
  },
  {
   "cell_type": "markdown",
   "id": "5615f531-f538-4a4e-acf1-067c8ede5032",
   "metadata": {},
   "source": [
    "###  <span style=\"color:palevioletred\">AND ('and') </span>"
   ]
  },
  {
   "cell_type": "markdown",
   "id": "3aa78969-9570-49e3-9850-9b435d542622",
   "metadata": {},
   "source": [
    "##### Returns 'True' if **both operators are True**, and 'False' otherwise"
   ]
  },
  {
   "cell_type": "code",
   "execution_count": 55,
   "id": "791a2213-4d99-4d42-88f5-e8e228574cb9",
   "metadata": {},
   "outputs": [
    {
     "data": {
      "text/plain": [
       "True"
      ]
     },
     "execution_count": 55,
     "metadata": {},
     "output_type": "execute_result"
    }
   ],
   "source": [
    "is_raining = True\n",
    "has_umbrella = True\n",
    "should_take_umbrella = is_raining and has_umbrella  \n",
    "\n",
    "should_take_umbrella"
   ]
  },
  {
   "cell_type": "markdown",
   "id": "1e60d5e7-a1c0-40ba-a216-553cc50c0e29",
   "metadata": {},
   "source": [
    "###  <span style=\"color:palevioletred\">OR('or') </span>"
   ]
  },
  {
   "cell_type": "markdown",
   "id": "70915cae-6182-4337-a9e1-363fe4ea6aaa",
   "metadata": {},
   "source": [
    "##### Returns 'True' if **at least one of the operands is True**, and 'False' if both operands are False."
   ]
  },
  {
   "cell_type": "code",
   "execution_count": 57,
   "id": "cf4b6e9d-f7e2-45d6-bdb4-1306a0341276",
   "metadata": {},
   "outputs": [
    {
     "data": {
      "text/plain": [
       "True"
      ]
     },
     "execution_count": 57,
     "metadata": {},
     "output_type": "execute_result"
    }
   ],
   "source": [
    "is_raining = True\n",
    "is_sunny = False\n",
    "should_stay_inside = is_raining or is_sunny \n",
    "\n",
    "should_stay_inside"
   ]
  },
  {
   "cell_type": "markdown",
   "id": "ff19f9ac-77f0-40e6-95ad-f6ccf7007638",
   "metadata": {},
   "source": [
    "###  <span style=\"color:palevioletred\">NOT('not') </span>"
   ]
  },
  {
   "cell_type": "markdown",
   "id": "00ccc882-19d2-4f31-8c3b-02e175735af5",
   "metadata": {},
   "source": [
    "##### Negates the value of a boolean expression. Returns 'True' if the expression is False, and 'False' if the expression is True."
   ]
  },
  {
   "cell_type": "code",
   "execution_count": 58,
   "id": "cad05a5c-135a-4df5-a79a-ebe0aacb663e",
   "metadata": {},
   "outputs": [
    {
     "data": {
      "text/plain": [
       "False"
      ]
     },
     "execution_count": 58,
     "metadata": {},
     "output_type": "execute_result"
    }
   ],
   "source": [
    "is_raining = True\n",
    "is_not_raining = not is_raining  \n",
    "\n",
    "is_not_raining"
   ]
  },
  {
   "cell_type": "markdown",
   "id": "c2e7c1c8-33ef-4511-a7a4-1ae824acdee4",
   "metadata": {},
   "source": [
    "*** "
   ]
  },
  {
   "cell_type": "markdown",
   "id": "0e7250d6-26da-4442-b9b9-ab7baa5564a2",
   "metadata": {},
   "source": [
    "#### A very critical part of coding is understanding if and if-else statements, especially when designing behavior studies as these statements are used to make decisions in your code. They work using boolean logic, helping your program do different things based on whether a certain condition is true or false "
   ]
  },
  {
   "cell_type": "markdown",
   "id": "bfbecca5-e171-4893-8ca5-2e7b6c1b7025",
   "metadata": {},
   "source": [
    "###  <span style=\"color:palevioletred\"> if statement </span>"
   ]
  },
  {
   "cell_type": "markdown",
   "id": "21faf281-f6ea-4d3f-9b86-50ed5c6191a1",
   "metadata": {},
   "source": [
    "##### An \"if\" statement checks a condition and executes a block of code **only if** the condition is **true**"
   ]
  },
  {
   "cell_type": "code",
   "execution_count": 2,
   "id": "ff91216f-f134-4111-a5eb-c9c0a6767505",
   "metadata": {},
   "outputs": [
    {
     "name": "stdout",
     "output_type": "stream",
     "text": [
      "statement is True\n"
     ]
    }
   ],
   "source": [
    "statement = True\n",
    "if statement:\n",
    "    print(\"statement is True\")\n",
    "\n",
    "if not statement:\n",
    "    print(\"statement is not True\")"
   ]
  },
  {
   "cell_type": "code",
   "execution_count": 3,
   "id": "47863d68-2d48-473d-878c-db29478b96aa",
   "metadata": {},
   "outputs": [
    {
     "name": "stdout",
     "output_type": "stream",
     "text": [
      "Value is positive and less than one or value is three\n"
     ]
    }
   ],
   "source": [
    "val = 3\n",
    "if 0 <= val < 1 or val == 3:\n",
    "    print(\"Value is positive and less than one or value is three\")"
   ]
  },
  {
   "cell_type": "markdown",
   "id": "5dcbea02-3681-4fbe-b177-3c43c1509c97",
   "metadata": {},
   "source": [
    "###  <span style=\"color:palevioletred\"> if-else statement </span>"
   ]
  },
  {
   "cell_type": "markdown",
   "id": "9ae7612c-fc72-4fce-8c0b-f67c958ebaf1",
   "metadata": {},
   "source": [
    "##### An \"if-else\" statement extends the \"if\" statement by providing an alternative code block to run if the condition is false.\n",
    "\n"
   ]
  },
  {
   "cell_type": "code",
   "execution_count": 6,
   "id": "f09f46d5-dae7-49fd-be61-ac991032a21c",
   "metadata": {},
   "outputs": [
    {
     "name": "stdout",
     "output_type": "stream",
     "text": [
      "Denied!\n"
     ]
    }
   ],
   "source": [
    "age = 20\n",
    "if age >= 21:\n",
    "    print(\"You can get into the club!\")\n",
    "else:\n",
    "    print(\"Denied!\")"
   ]
  },
  {
   "cell_type": "markdown",
   "id": "0a87e109-cf4b-4042-8e28-66a46ad7b998",
   "metadata": {},
   "source": [
    "###  <span style=\"color:palevioletred\"> if-elif-else statement </span>"
   ]
  },
  {
   "cell_type": "markdown",
   "id": "a7ca1379-86e3-4fba-bbef-f91a31fd9466",
   "metadata": {},
   "source": [
    "##### When you need to check multiple conditions, you can use \"if-elif-else\" statements. \"elif\" stands for \"else if\" and allows you to check additional conditions."
   ]
  },
  {
   "cell_type": "code",
   "execution_count": 7,
   "id": "9b4689b7-1f09-4ab7-a5b8-a89129e0d1cd",
   "metadata": {},
   "outputs": [
    {
     "name": "stdout",
     "output_type": "stream",
     "text": [
      "Hello fellow Pythonista!\n"
     ]
    }
   ],
   "source": [
    "greeting = \"Hello fellow Pythonista!\"\n",
    "language = \"Italian\"\n",
    "\n",
    "if language == \"Swedish\":\n",
    "    greeting = \"Hejsan!\"\n",
    "elif language == \"Finnish\":\n",
    "    greeting = \"Latua perkele!\"\n",
    "elif language == \"Spanish\":\n",
    "    greeting = \"Hola!\"\n",
    "elif language == \"German\":\n",
    "    greeting = \"Guten Tag!\"\n",
    "\n",
    "print(greeting)"
   ]
  },
  {
   "cell_type": "markdown",
   "id": "acd16692-f046-477d-84e3-ccac020f70cc",
   "metadata": {},
   "source": [
    "*** "
   ]
  },
  {
   "cell_type": "markdown",
   "id": "f7f4950e-6f8d-43af-bbae-d8b8141e927f",
   "metadata": {},
   "source": [
    "####  <span style=\"color:purple\">Exercise 4: Fill missing pieces (____) of the following code such that prints make sense. Hint: you will need to determine the length of the string.   </span>"
   ]
  },
  {
   "cell_type": "code",
   "execution_count": 8,
   "id": "49eeb91c-7f52-4983-8c34-94464c001e7b",
   "metadata": {},
   "outputs": [],
   "source": [
    "name = \"John Doe\""
   ]
  },
  {
   "cell_type": "code",
   "execution_count": 9,
   "id": "c4f70b6c-01d8-4f19-b3b4-25e53d55095f",
   "metadata": {},
   "outputs": [
    {
     "ename": "NameError",
     "evalue": "name '____' is not defined",
     "output_type": "error",
     "traceback": [
      "\u001b[0;31m---------------------------------------------------------------------------\u001b[0m",
      "\u001b[0;31mNameError\u001b[0m                                 Traceback (most recent call last)",
      "\u001b[0;32m/var/folders/mp/9ydvy8fs7nqb9h4j545cqv900000gn/T/ipykernel_16280/2835776336.py\u001b[0m in \u001b[0;36m<module>\u001b[0;34m\u001b[0m\n\u001b[0;32m----> 1\u001b[0;31m \u001b[0;32mif\u001b[0m \u001b[0m____\u001b[0m\u001b[0;34m:\u001b[0m\u001b[0;34m\u001b[0m\u001b[0;34m\u001b[0m\u001b[0m\n\u001b[0m\u001b[1;32m      2\u001b[0m     \u001b[0mprint\u001b[0m\u001b[0;34m(\u001b[0m\u001b[0;34mf'Name \"{name}\" is more than 20 chars long'\u001b[0m\u001b[0;34m)\u001b[0m\u001b[0;34m\u001b[0m\u001b[0;34m\u001b[0m\u001b[0m\n\u001b[1;32m      3\u001b[0m     \u001b[0mlength_description\u001b[0m \u001b[0;34m=\u001b[0m \u001b[0;34m\"long\"\u001b[0m\u001b[0;34m\u001b[0m\u001b[0;34m\u001b[0m\u001b[0m\n\u001b[1;32m      4\u001b[0m \u001b[0;32melif\u001b[0m \u001b[0m____\u001b[0m\u001b[0;34m:\u001b[0m\u001b[0;34m\u001b[0m\u001b[0;34m\u001b[0m\u001b[0m\n\u001b[1;32m      5\u001b[0m     \u001b[0mprint\u001b[0m\u001b[0;34m(\u001b[0m\u001b[0;34mf'Name \"{name}\" is more than 15 chars long'\u001b[0m\u001b[0;34m)\u001b[0m\u001b[0;34m\u001b[0m\u001b[0;34m\u001b[0m\u001b[0m\n",
      "\u001b[0;31mNameError\u001b[0m: name '____' is not defined"
     ]
    }
   ],
   "source": [
    "if ____:\n",
    "    print(f'Name \"{name}\" is more than 20 chars long')\n",
    "    length_description = \"long\"\n",
    "elif ____:\n",
    "    print(f'Name \"{name}\" is more than 15 chars long')\n",
    "    length_description = \"semi long\"\n",
    "elif ____:\n",
    "    print(f'Name \"{name}\" is more than 10 chars long')\n",
    "    length_description = \"semi long\"\n",
    "elif ____:\n",
    "    print(f'Name \"{name}\" is 8, 9 or 10 chars long')\n",
    "    length_description = \"semi short\"\n",
    "else:\n",
    "    print(f'Name \"{name}\" is a short name')\n",
    "    length_description = \"short\""
   ]
  },
  {
   "cell_type": "code",
   "execution_count": 15,
   "id": "1221e686-bd37-4453-85a6-0e6315824e10",
   "metadata": {},
   "outputs": [
    {
     "ename": "AssertionError",
     "evalue": "",
     "output_type": "error",
     "traceback": [
      "\u001b[0;31m---------------------------------------------------------------------------\u001b[0m",
      "\u001b[0;31mAssertionError\u001b[0m                            Traceback (most recent call last)",
      "\u001b[0;32m/var/folders/mp/9ydvy8fs7nqb9h4j545cqv900000gn/T/ipykernel_16280/508527419.py\u001b[0m in \u001b[0;36m<module>\u001b[0;34m\u001b[0m\n\u001b[0;32m----> 1\u001b[0;31m \u001b[0;32massert\u001b[0m \u001b[0mlength_description\u001b[0m \u001b[0;34m==\u001b[0m \u001b[0;34m\"semi short\"\u001b[0m\u001b[0;34m\u001b[0m\u001b[0;34m\u001b[0m\u001b[0m\n\u001b[0m",
      "\u001b[0;31mAssertionError\u001b[0m: "
     ]
    }
   ],
   "source": [
    "assert length_description == \"semi short\""
   ]
  },
  {
   "cell_type": "markdown",
   "id": "60928bcb-9ff2-48c8-9a1f-2aae828317e2",
   "metadata": {},
   "source": [
    "#### Here is a more detailed overview of conditional statements if you would like some more practice!\n",
    "\n",
    "- https://realpython.com/python-conditional-statements/"
   ]
  },
  {
   "cell_type": "markdown",
   "id": "1003d689-d7d4-4879-a609-86838b2156dd",
   "metadata": {},
   "source": [
    "*** "
   ]
  },
  {
   "cell_type": "markdown",
   "id": "2f6f1003-0392-4507-83d1-2c7c98d1bafb",
   "metadata": {},
   "source": [
    "#  <span style=\"color: mediumpurple\"> All Done! Any Questions?  </span>"
   ]
  },
  {
   "cell_type": "markdown",
   "id": "8278608e-8304-480b-aef6-0a4e28a3f919",
   "metadata": {},
   "source": [
    "![alternatvie text](https://www.pbh2.com/wordpress/wp-content/uploads/2013/12/pusheen-party.gif)"
   ]
  }
 ],
 "metadata": {
  "kernelspec": {
   "display_name": "Python 3 (ipykernel)",
   "language": "python",
   "name": "python3"
  },
  "language_info": {
   "codemirror_mode": {
    "name": "ipython",
    "version": 3
   },
   "file_extension": ".py",
   "mimetype": "text/x-python",
   "name": "python",
   "nbconvert_exporter": "python",
   "pygments_lexer": "ipython3",
   "version": "3.9.13"
  }
 },
 "nbformat": 4,
 "nbformat_minor": 5
}
