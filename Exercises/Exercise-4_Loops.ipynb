{
 "cells": [
  {
   "cell_type": "code",
   "execution_count": null,
   "id": "a3b0061e-d430-4023-baba-5fa135701e14",
   "metadata": {},
   "outputs": [],
   "source": [
    "#lab 3 loops "
   ]
  },
  {
   "cell_type": "markdown",
   "id": "319b415b-7769-41b6-ae99-642e3a3cb325",
   "metadata": {},
   "source": [
    "### Starting off where we left off last time!"
   ]
  },
  {
   "cell_type": "markdown",
   "id": "8d84791c-a6f3-4e78-9623-8ebf43d47a12",
   "metadata": {},
   "source": [
    "*** "
   ]
  },
  {
   "cell_type": "markdown",
   "id": "ac2f872d-f04b-4d67-84e3-0222c2e7b977",
   "metadata": {},
   "source": [
    "# [Conditionals](https://docs.python.org/3/c-api/bool.html?highlight=boolean)"
   ]
  },
  {
   "cell_type": "markdown",
   "id": "1c2902c5-eed6-4172-9b4c-cbdc09396509",
   "metadata": {},
   "source": [
    "#### Boolean operators are used to perform logical operations on boolean values, which are values that can be either True or False. These operators allow you to combine, manipulate, and compare boolean values to make decisions in your code."
   ]
  },
  {
   "cell_type": "markdown",
   "id": "1e265c99-f40d-4d23-8607-8db66facf350",
   "metadata": {},
   "source": [
    "###  <span style=\"color:palevioletred\">AND ('and') </span>"
   ]
  },
  {
   "cell_type": "markdown",
   "id": "cfd17490-3642-4605-b2e3-3e1f647bdc59",
   "metadata": {},
   "source": [
    "##### Returns 'True' if **both operators are True**, and 'False' otherwise"
   ]
  },
  {
   "cell_type": "code",
   "execution_count": null,
   "id": "e60c1ba1-fa0b-4a89-bdc9-f7e3fe97bca0",
   "metadata": {},
   "outputs": [],
   "source": [
    "is_raining = True\n",
    "has_umbrella = True\n",
    "should_take_umbrella = is_raining and has_umbrella  \n",
    "\n",
    "should_take_umbrella"
   ]
  },
  {
   "cell_type": "markdown",
   "id": "83d25bf1-1c5b-4d2b-9c4e-58d9bcf0df3e",
   "metadata": {},
   "source": [
    "###  <span style=\"color:palevioletred\">OR('or') </span>"
   ]
  },
  {
   "cell_type": "markdown",
   "id": "d2e65ec4-8c0d-4615-9d58-fb2f5f09af7a",
   "metadata": {},
   "source": [
    "##### Returns 'True' if **at least one of the operands is True**, and 'False' if both operands are False."
   ]
  },
  {
   "cell_type": "code",
   "execution_count": null,
   "id": "ed762539-2b85-4d17-9d02-7ff3e650b6d3",
   "metadata": {},
   "outputs": [],
   "source": [
    "is_raining = True\n",
    "is_sunny = False\n",
    "should_stay_inside = is_raining or is_sunny \n",
    "\n",
    "should_stay_inside"
   ]
  },
  {
   "cell_type": "markdown",
   "id": "726ed7a9-d34e-4b87-9294-57f7fabbafa0",
   "metadata": {},
   "source": [
    "###  <span style=\"color:palevioletred\">NOT('not') </span>"
   ]
  },
  {
   "cell_type": "markdown",
   "id": "f816aae0-d843-422a-8910-4ab703caffc4",
   "metadata": {},
   "source": [
    "##### Negates the value of a boolean expression. Returns 'True' if the expression is False, and 'False' if the expression is True."
   ]
  },
  {
   "cell_type": "code",
   "execution_count": null,
   "id": "1646078b-6d77-43f5-84ef-ae34d8664a79",
   "metadata": {},
   "outputs": [],
   "source": [
    "is_raining = True\n",
    "is_not_raining = not is_raining  \n",
    "\n",
    "is_not_raining"
   ]
  },
  {
   "cell_type": "markdown",
   "id": "78cbe0fa-87c0-4403-a041-e5d53685182c",
   "metadata": {},
   "source": [
    "####  <span style=\"color:purple\"> Exercise 1: Write a Python function called check_admission(age, has_degree, has_experience) that takes three boolean inputs:\n",
    "\n",
    "- <span style=\"color:black\"> age (a boolean indicating whether the person is at least 25 years old).\n",
    "    \n",
    "- <span style=\"color:black\"> has_degree (a boolean indicating whether the person has a bachelor's degree).\n",
    "    \n",
    "- <span style=\"color:black\"> has_experience (a boolean indicating whether the person has at least 2 years of relevant work experience).\n",
    "    \n",
    "<span style=\"color:purple\"> The function should return TRUE if the person is eligible for admission to a professional program based on the following criteria:\n",
    "\n",
    "- <span style=\"color:black\"> The person must be at least 25 years old (age is True).\n",
    "The person must either have a bachelor's degree or have at least 2 years of relevant work experience (has_degree is True or has_experience is True, or both).  </span> "
   ]
  },
  {
   "cell_type": "code",
   "execution_count": null,
   "id": "69172894-dbde-4ad5-8d6b-9bd7eb8b070a",
   "metadata": {},
   "outputs": [],
   "source": [
    "def check_admission(age, has_degree, has_experience):\n",
    "    # Your code here\n",
    "\n",
    "# Example usage:\n",
    "age = True\n",
    "has_degree = True\n",
    "has_experience = False\n",
    "eligible = check_admission(age, has_degree, has_experience)\n",
    "print(f\"Is the person eligible for admission? {eligible}\")\n"
   ]
  },
  {
   "cell_type": "markdown",
   "id": "c9cebca6-6543-4229-9364-4abb7b6bf53d",
   "metadata": {},
   "source": [
    "<details>\n",
    "  <summary style=\"color: red;\">Click to reveal answer</summary>\n",
    "\n",
    "def check_admission(age, has_degree, has_experience):\n",
    "    \n",
    "    if (age and has_degree) or (age and has_experience):\n",
    "    \n",
    "        return True\n",
    "    \n",
    "    else: \n",
    "    \n",
    "        return False \n",
    "\n",
    "    \n",
    "</details>"
   ]
  },
  {
   "cell_type": "markdown",
   "id": "19da7379-924d-4cd8-b4d1-42a6eb9c55a2",
   "metadata": {},
   "source": [
    "*** "
   ]
  },
  {
   "cell_type": "markdown",
   "id": "d02c98d6-5760-486e-b8a1-be0ea9e06242",
   "metadata": {},
   "source": [
    "# [If-Statements](https://pythonbasics.org/if-statements/)"
   ]
  },
  {
   "cell_type": "markdown",
   "id": "fe277e49-897b-453a-b8a6-c99a250d3335",
   "metadata": {},
   "source": [
    "#### A very critical part of coding is understanding if and if-else statements, especially when designing behavior studies as these statements are used to make decisions in your code. They work using boolean logic, helping your program do different things based on whether a certain condition is true or false "
   ]
  },
  {
   "cell_type": "markdown",
   "id": "ec89682c-d91f-4b3c-a325-4cc74e9e2ddc",
   "metadata": {},
   "source": [
    "###  <span style=\"color:palevioletred\"> if statement </span>"
   ]
  },
  {
   "cell_type": "markdown",
   "id": "ebfd034e-b018-4e37-b5a0-523b6115f3e1",
   "metadata": {},
   "source": [
    "##### An \"if\" statement checks a condition and executes a block of code **only if** the condition is **true**"
   ]
  },
  {
   "cell_type": "code",
   "execution_count": null,
   "id": "51cd7f81-6e26-44ed-83b8-a3010771c458",
   "metadata": {},
   "outputs": [],
   "source": [
    "statement = True\n",
    "if statement:\n",
    "    print(\"statement is True\")\n",
    "\n",
    "if not statement:\n",
    "    print(\"statement is not True\")"
   ]
  },
  {
   "cell_type": "code",
   "execution_count": null,
   "id": "5e6cfdb2-0377-4c42-9e1a-d9e4c256a477",
   "metadata": {},
   "outputs": [],
   "source": [
    "val = 3\n",
    "if 0 <= val < 1 or val == 3:\n",
    "    print(\"Value is positive and less than one or value is three\")"
   ]
  },
  {
   "cell_type": "markdown",
   "id": "3b504101-66af-4798-af21-e37dd227faf9",
   "metadata": {},
   "source": [
    "####  <span style=\"color:purple\">Exercise 2: Write a code that detects whether a number is true or false - hint you will have to use a specific mathematical operator... \n",
    "</span>"
   ]
  },
  {
   "cell_type": "code",
   "execution_count": 24,
   "id": "39b1a0d9-444f-4724-b11f-e8a0e8c66c68",
   "metadata": {},
   "outputs": [
    {
     "name": "stdout",
     "output_type": "stream",
     "text": [
      "Odd\n"
     ]
    }
   ],
   "source": [
    "number = __\n",
    "\n",
    "if _____: \n",
    "    print(\"____\")\n",
    "else: \n",
    "    print(\"____\")"
   ]
  },
  {
   "cell_type": "markdown",
   "id": "ac72ff18-b336-42df-bae8-71579b2f8701",
   "metadata": {},
   "source": [
    "#### <span style=\"color:purple\"> To make this a little more advanced, try running through a list of numbers ( example : numbers = [1,2,3,4,5] ) and printing out the value of the list with each run (example: \"1 is odd\") \n",
    "</span>"
   ]
  },
  {
   "cell_type": "code",
   "execution_count": 26,
   "id": "7092cbb1-9d4f-49d8-af53-10b7f2f657a7",
   "metadata": {},
   "outputs": [],
   "source": [
    "numbers = [1,2,3,4,5]"
   ]
  },
  {
   "cell_type": "markdown",
   "id": "555b7199-c96a-4d39-bc3f-88bafc34afe2",
   "metadata": {},
   "source": [
    "<details>\n",
    "  <summary style=\"color: red;\">Click to reveal answer</summary>\n",
    "\n",
    "number = 5\n",
    "\n",
    "if number % 2 == 0: \n",
    "    \n",
    "    print(\"Even\")\n",
    "\n",
    "else: \n",
    "    \n",
    "    print(\"Odd\")\n",
    "    \n",
    "    \n",
    "    \n",
    "    \n",
    "    \n",
    "**More advanced example** : \n",
    "    \n",
    "numbers = [1,2,3,4,5]\n",
    "\n",
    "\n",
    "for i in numbers: \n",
    "    \n",
    "    if i % 2 ==0: \n",
    "        print(f\"{i} is even\")\n",
    "    \n",
    "    else:\n",
    "        print(f\"{i} is odd\")\n",
    "\n",
    "    \n",
    "</details>\n",
    "\n",
    "    "
   ]
  },
  {
   "cell_type": "markdown",
   "id": "06d0d4f9-bbce-4659-b3a7-83e3dc4bca76",
   "metadata": {},
   "source": [
    "###  <span style=\"color:palevioletred\"> if-else statement </span>"
   ]
  },
  {
   "cell_type": "markdown",
   "id": "dd957f80-3e84-4925-9e4d-0d267da5cec9",
   "metadata": {},
   "source": [
    "##### An \"if-else\" statement extends the \"if\" statement by providing an alternative code block to run if the condition is false.\n",
    "\n"
   ]
  },
  {
   "cell_type": "code",
   "execution_count": null,
   "id": "7a4db973-ed6e-45f0-bdda-9ee2082830f6",
   "metadata": {},
   "outputs": [],
   "source": [
    "age = 20\n",
    "if age >= 21:\n",
    "    print(\"You can get into the club!\")\n",
    "else:\n",
    "    print(\"Denied!\")"
   ]
  },
  {
   "cell_type": "markdown",
   "id": "6a491d14-ba62-4902-91c3-a36a4127d6f2",
   "metadata": {},
   "source": [
    "###  <span style=\"color:palevioletred\"> if-elif-else statement </span>"
   ]
  },
  {
   "cell_type": "markdown",
   "id": "65a85b63-dcc0-4467-9756-1b4ff56ba07d",
   "metadata": {},
   "source": [
    "##### When you need to check multiple conditions, you can use \"if-elif-else\" statements. \"elif\" stands for \"else if\" and allows you to check additional conditions."
   ]
  },
  {
   "cell_type": "code",
   "execution_count": null,
   "id": "1e52a6ac-ca9b-44df-b7a7-c3961317d236",
   "metadata": {},
   "outputs": [],
   "source": [
    "greeting = \"Hello fellow Pythonista!\"\n",
    "language = \"Italian\"\n",
    "\n",
    "if language == \"Swedish\":\n",
    "    greeting = \"Hejsan!\"\n",
    "elif language == \"Finnish\":\n",
    "    greeting = \"Latua perkele!\"\n",
    "elif language == \"Spanish\":\n",
    "    greeting = \"Hola!\"\n",
    "elif language == \"German\":\n",
    "    greeting = \"Guten Tag!\"\n",
    "\n",
    "print(greeting)"
   ]
  },
  {
   "cell_type": "markdown",
   "id": "2ace6b27-8a69-4173-b7fe-2783ddf4d423",
   "metadata": {},
   "source": [
    "*** "
   ]
  },
  {
   "cell_type": "markdown",
   "id": "5fcef902-3964-45f7-b288-05df48113535",
   "metadata": {},
   "source": [
    "####  <span style=\"color:purple\">Exercise 3: Fill missing pieces (____) of the following code such that prints make sense. Hint: you will need to determine the length of the string.   </span>"
   ]
  },
  {
   "cell_type": "code",
   "execution_count": null,
   "id": "e19a881d-8687-419d-9c60-6f888d9c7552",
   "metadata": {},
   "outputs": [],
   "source": [
    "name = \"John Doe\""
   ]
  },
  {
   "cell_type": "code",
   "execution_count": null,
   "id": "1706fde8-e6fe-4d28-aaa5-f6456b463da7",
   "metadata": {},
   "outputs": [],
   "source": [
    "if ____:\n",
    "    print(f'Name \"{name}\" is more than 20 chars long')\n",
    "    length_description = \"long\"\n",
    "elif ____:\n",
    "    print(f'Name \"{name}\" is more than 15 chars long')\n",
    "    length_description = \"semi long\"\n",
    "elif ____:\n",
    "    print(f'Name \"{name}\" is more than 10 chars long')\n",
    "    length_description = \"semi long\"\n",
    "elif ____:\n",
    "    print(f'Name \"{name}\" is 8, 9 or 10 chars long')\n",
    "    length_description = \"semi short\"\n",
    "else:\n",
    "    print(f'Name \"{name}\" is a short name')\n",
    "    length_description = \"short\""
   ]
  },
  {
   "cell_type": "code",
   "execution_count": null,
   "id": "9e24923a-e793-4649-94ea-c6dca5bc8af3",
   "metadata": {},
   "outputs": [],
   "source": [
    "assert length_description == \"semi short\""
   ]
  },
  {
   "cell_type": "markdown",
   "id": "afce5b2b-aac3-4347-9b47-1e5af5fbc629",
   "metadata": {},
   "source": [
    "#### Here is a more detailed overview of conditional statements if you would like some more practice!\n",
    "\n",
    "- https://realpython.com/python-conditional-statements/"
   ]
  },
  {
   "cell_type": "markdown",
   "id": "528571a1-a5c3-4400-a963-8ce1a423bc0d",
   "metadata": {},
   "source": [
    "*** "
   ]
  },
  {
   "cell_type": "markdown",
   "id": "f90d621e-48ff-4055-a6db-0b231d3f3d53",
   "metadata": {},
   "source": [
    "# [For Loops ](https://docs.python.org/3/tutorial/controlflow.html#for-statements)"
   ]
  },
  {
   "cell_type": "markdown",
   "id": "ee2c4c48-538b-4163-afc1-405f840e333b",
   "metadata": {},
   "source": [
    "#### A for loop is a fundamental programming construct used to repeat a block of code a specific number of times or iterate over a collection of items (such as a list, tuple, or string) and perform the same operation on each item in the collection. It allows you to automate repetitive tasks and efficiently process data.\n",
    "\n",
    "#### **Use a for loop when you know how many iterations you want!**"
   ]
  },
  {
   "cell_type": "markdown",
   "id": "e0148ac2-ede9-4cfd-802e-ce506308c341",
   "metadata": {},
   "source": [
    "#### Python for loop looks like this: "
   ]
  },
  {
   "cell_type": "markdown",
   "id": "d405698c-21e5-4c85-92c3-dd7548255ec6",
   "metadata": {},
   "source": [
    "##### for < var > in < iterable >:\n",
    "    < statement(s) >\n",
    "        \n",
    "#### where < iterable > is a collection of objects (ex: list)         "
   ]
  },
  {
   "cell_type": "markdown",
   "id": "2531ab84-6fdc-48cd-880c-aa6291bfe39d",
   "metadata": {},
   "source": [
    "###  <span style=\"color:palevioletred\">lists </span>"
   ]
  },
  {
   "cell_type": "markdown",
   "id": "115a5318-49a8-4a50-9423-32b534b8f0b3",
   "metadata": {},
   "source": [
    "##### Most commonly, you'll use for loops to loop through lists. For example: "
   ]
  },
  {
   "cell_type": "code",
   "execution_count": 28,
   "id": "6119f48f-2c0f-4a5a-bc50-c6579aaf7ac2",
   "metadata": {},
   "outputs": [
    {
     "name": "stdout",
     "output_type": "stream",
     "text": [
      "1\n",
      "2\n",
      "3\n",
      "4\n",
      "Python\n",
      "is\n",
      "neat\n"
     ]
    }
   ],
   "source": [
    "my_list = [1, 2, 3, 4, \"Python\", \"is\", \"neat\"]\n",
    "for item in my_list:\n",
    "    print(item)"
   ]
  },
  {
   "cell_type": "markdown",
   "id": "2977846f-2af7-404b-bc9f-4537b5a3d05a",
   "metadata": {},
   "source": [
    "###  <span style=\"color:palevioletred\">break </span>"
   ]
  },
  {
   "cell_type": "markdown",
   "id": "80779d59-674b-4a76-bf85-325095d5ca6a",
   "metadata": {},
   "source": [
    "##### If you want to stop the execution of the loop at a certain point you can use \"break\""
   ]
  },
  {
   "cell_type": "code",
   "execution_count": 31,
   "id": "aab65317-d03a-41c2-8f04-193564442427",
   "metadata": {},
   "outputs": [
    {
     "name": "stdout",
     "output_type": "stream",
     "text": [
      "1\n",
      "2\n",
      "3\n",
      "4\n"
     ]
    }
   ],
   "source": [
    "for item in my_list:\n",
    "    if item == \"Python\":\n",
    "        break\n",
    "    print(item)"
   ]
  },
  {
   "cell_type": "markdown",
   "id": "6d7dd635-98e5-4ee9-857d-bb9b54ef5529",
   "metadata": {},
   "source": [
    "###  <span style=\"color:palevioletred\">continue </span>"
   ]
  },
  {
   "cell_type": "markdown",
   "id": "b4afb9ee-3b51-4efa-91f4-baa8ff06ec50",
   "metadata": {},
   "source": [
    "##### \"continue\" is used to skip the current iteration of the loop and jump to the next iteration "
   ]
  },
  {
   "cell_type": "code",
   "execution_count": 35,
   "id": "c8c026ca-b384-4f7f-946c-5ad7d64a0392",
   "metadata": {},
   "outputs": [
    {
     "name": "stdout",
     "output_type": "stream",
     "text": [
      "1\n",
      "2\n",
      "4\n",
      "Python\n",
      "is\n",
      "neat\n"
     ]
    }
   ],
   "source": [
    "for item in my_list:\n",
    "    if item == 3:\n",
    "        continue\n",
    "    print(item)"
   ]
  },
  {
   "cell_type": "markdown",
   "id": "8ab3f66d-669e-4d70-9c41-cbf18f2617df",
   "metadata": {},
   "source": [
    "####  <span style=\"color:purple\">Exercise 4: Loop through a list called \"numbers\" and calculate the total sum of all the numers in the list  </span>"
   ]
  },
  {
   "cell_type": "code",
   "execution_count": 47,
   "id": "f48f0e02-96ea-4479-9eb7-876477cde22b",
   "metadata": {},
   "outputs": [
    {
     "name": "stdout",
     "output_type": "stream",
     "text": [
      "The sum of the numbers is: \n"
     ]
    }
   ],
   "source": [
    "# Initialize the list of numbers, choose any numbers you want\n",
    "numbers = ___\n",
    "\n",
    "# Initialize a variable to store the sum named \"total_sum\"\n",
    "\n",
    "# Use a for loop to calculate the sum\n",
    "# Your code here\n",
    "\n",
    "# Print the total sum\n",
    "print(f\"The sum of the numbers is: \")\n"
   ]
  },
  {
   "cell_type": "markdown",
   "id": "19ece3ad-33e2-4dbd-9145-eedf15f2c045",
   "metadata": {},
   "source": [
    "<details>\n",
    "  <summary style=\"color: red;\">Click to reveal answer</summary>\n",
    "\n",
    "numbers = [5, 10, 15, 20, 25]\n",
    "\n",
    "total_sum = 0\n",
    "\n",
    "for i in numbers: \n",
    "    \n",
    "        total_sum = total_sum + i\n",
    "    \n",
    "\n",
    "\n",
    "    print(f\"The sum of the numbers is: {total_sum}\")\n",
    "    \n",
    "</details>\n",
    "\n",
    "\n",
    "\n",
    "\n"
   ]
  },
  {
   "cell_type": "markdown",
   "id": "15f9b304-a444-48b2-b40f-8988a593b539",
   "metadata": {},
   "source": [
    "####  <span style=\"color:purple\">For a more advanced problem, loop through this list of numbers and return a string for each number in the list based on the following rules:  </span>\n",
    "\n",
    "- If the number is a multiple of five and odd, the string should be 'five odd'\n",
    "- If the number is a multiple of five and even, the string should be 'five even'\n",
    "- If the number is odd, the string is 'odd'\n",
    "- If the number is even, the string is 'even'  </span>"
   ]
  },
  {
   "cell_type": "markdown",
   "id": "3a34e690-fecd-4308-b1a4-1cce7ebcf808",
   "metadata": {},
   "source": [
    "#####  <span style=\"color:purple\">Hint: you will have to know how to add items to a list - google is your friend!  </span>"
   ]
  },
  {
   "cell_type": "code",
   "execution_count": null,
   "id": "8b3e1f3a-2216-4b18-a531-573ae9e5e216",
   "metadata": {},
   "outputs": [],
   "source": [
    "numbers = [1, 3, 4, 6, 81, 80, 100, 95]"
   ]
  },
  {
   "cell_type": "code",
   "execution_count": 54,
   "id": "75732624-644b-47b2-b95d-ad7634272287",
   "metadata": {},
   "outputs": [
    {
     "ename": "SyntaxError",
     "evalue": "invalid syntax (2819258913.py, line 2)",
     "output_type": "error",
     "traceback": [
      "\u001b[0;36m  File \u001b[0;32m\"/var/folders/mp/9ydvy8fs7nqb9h4j545cqv900000gn/T/ipykernel_39508/2819258913.py\"\u001b[0;36m, line \u001b[0;32m2\u001b[0m\n\u001b[0;31m    my_list =\u001b[0m\n\u001b[0m              ^\u001b[0m\n\u001b[0;31mSyntaxError\u001b[0m\u001b[0;31m:\u001b[0m invalid syntax\n"
     ]
    }
   ],
   "source": [
    "# Your implementation\n",
    "my_list = "
   ]
  },
  {
   "cell_type": "markdown",
   "id": "1bd4bc54-8252-400c-a517-5099387dcef9",
   "metadata": {},
   "source": [
    "<details>\n",
    "  <summary style=\"color: red;\">Click to reveal answer</summary>\n",
    "\n",
    "numbers = [1, 3, 4, 6, 81, 80, 100, 95]\n",
    "\n",
    "my_list = []\n",
    "\n",
    "\n",
    "for i in numbers: \n",
    "       \n",
    "    if (i%5==0) and (i%2!=0):\n",
    "        \n",
    "        text = \"five odd\"\n",
    "        \n",
    "        my_list.append(text)\n",
    "    \n",
    "    elif (i%5==0) and (i%2==0):\n",
    "        \n",
    "        text = \"five even\"\n",
    "        \n",
    "        my_list.append(text)        \n",
    "    \n",
    "    elif (i%2!=0):\n",
    "        \n",
    "        text = \"odd\"\n",
    "        \n",
    "        my_list.append(text)           \n",
    "    \n",
    "    elif (i%2==0):\n",
    "        \n",
    "        text = \"even\"\n",
    "        \n",
    "        my_list.append(text)   \n",
    "\n",
    "\n",
    "    print(my_list)\n",
    "    \n",
    "</details>\n",
    "\n",
    "\n"
   ]
  },
  {
   "cell_type": "code",
   "execution_count": 52,
   "id": "97a9164e-2cd4-4ba1-906d-5feef8ee2f5b",
   "metadata": {},
   "outputs": [],
   "source": [
    "assert my_list == [\n",
    "    \"odd\",\n",
    "    \"odd\",\n",
    "    \"even\",\n",
    "    \"even\",\n",
    "    \"odd\",\n",
    "    \"five even\",\n",
    "    \"five even\",\n",
    "    \"five odd\",\n",
    "]"
   ]
  },
  {
   "cell_type": "markdown",
   "id": "13ec7c88-a416-46dd-9722-0abeb68ff793",
   "metadata": {},
   "source": [
    "# [While Loops ](https://realpython.com/python-while-loop/)"
   ]
  },
  {
   "cell_type": "markdown",
   "id": "85392683-21b4-4eec-aa15-05abb6448df5",
   "metadata": {},
   "source": [
    "##### while < expr >: :\n",
    "    < statement(s) >\n",
    "        \n",
    "#### where < expr > is the controlling expression. \n",
    "\n",
    "####  If it is true, the loop body is executed. Then < expr > is checked again, and if still true, the body is executed again. This continues until < expr > becomes false, at which point program execution proceeds to the first statement beyond the loop body.\n",
    "\n",
    "#### **Use a while loop when you don't know how many iterations you'll need!**"
   ]
  },
  {
   "cell_type": "markdown",
   "id": "0417a6bf-0753-4ec9-8bd4-5aa551897dc0",
   "metadata": {},
   "source": [
    "##### What is wrong here? "
   ]
  },
  {
   "cell_type": "code",
   "execution_count": 5,
   "id": "e6822563-ac1f-45c5-869c-9a9aa6457c0e",
   "metadata": {},
   "outputs": [],
   "source": [
    "n = 0\n",
    "\n",
    "while n>0:\n",
    "    n -= 1\n",
    "    print (n) "
   ]
  },
  {
   "cell_type": "markdown",
   "id": "65139dbd-36cd-4214-8edb-73bfe6416541",
   "metadata": {},
   "source": [
    "####  <span style=\"color:purple\">Exercise 5: Create a simple number guessing game where the computer generates a random number between 1 and 100, and the player has to guess the number. The game should provide feedback to the player after each guess, indicating whether the guess was too high, too low, or correct. The game should continue until the player correctly guesses the number. An outline is provided below, feel free to work together!\n",
    "</span>"
   ]
  },
  {
   "cell_type": "code",
   "execution_count": 4,
   "id": "257da06b-cdf4-480c-be3f-c001fd81a244",
   "metadata": {},
   "outputs": [
    {
     "ename": "SyntaxError",
     "evalue": "invalid syntax (1836844607.py, line 15)",
     "output_type": "error",
     "traceback": [
      "\u001b[0;36m  File \u001b[0;32m\"/var/folders/mp/9ydvy8fs7nqb9h4j545cqv900000gn/T/ipykernel_50229/1836844607.py\"\u001b[0;36m, line \u001b[0;32m15\u001b[0m\n\u001b[0;31m    guesses ____\u001b[0m\n\u001b[0m            ^\u001b[0m\n\u001b[0;31mSyntaxError\u001b[0m\u001b[0;31m:\u001b[0m invalid syntax\n"
     ]
    }
   ],
   "source": [
    "import _____\n",
    "\n",
    "# Generate a random number between 1 and 100\n",
    "secret_number = random.randint(1, 100)\n",
    "\n",
    "# Initialize a variable to keep track of the number of guesses\n",
    "______\n",
    "\n",
    "# Start the game\n",
    "while ____:\n",
    "    # Get the player's guess\n",
    "    guess = int(input(\"Guess the number (between 1 and 100): \"))\n",
    "    \n",
    "    # Increment the number of guesses\n",
    "    guesses ____\n",
    "    \n",
    "    # Check if the guess is correct\n",
    "    if ______:\n",
    "        print(f\"Congratulations! You guessed the number {secret_number} in {_____} guesses.\")\n",
    "        _____\n",
    "    elif _________:\n",
    "        print(\"Too low. Try again.\")\n",
    "    else: \n",
    "        print(\"Too high. Try again.\")\n"
   ]
  },
  {
   "cell_type": "markdown",
   "id": "1d7208a7-366f-4e47-b539-e3e6e1264f20",
   "metadata": {},
   "source": [
    "<details>\n",
    "  <summary style=\"color: red;\">Click to reveal answer</summary>\n",
    "\n",
    "import random\n",
    "\n",
    "\n",
    "secret_number = random.randint(1, 100)\n",
    "\n",
    "\n",
    "guesses = 0\n",
    "\n",
    "\n",
    "while True:\n",
    "    # Get the player's guess\n",
    "    guess = int(input(\"Guess the number (between 1 and 100): \"))\n",
    "    \n",
    "    # Increment the number of guesses\n",
    "    guesses += 1\n",
    "    \n",
    "    # Check if the guess is correct\n",
    "    if guess == secret_number:\n",
    "        print(f\"Congratulations! You guessed the number {secret_number} in {guesses} guesses.\")\n",
    "        break\n",
    "    elif guess < secret_number:\n",
    "        print(\"Too low. Try again.\")\n",
    "    else:\n",
    "        print(\"Too high. Try again.\")\n",
    "\n",
    "                               \n",
    "</details>"
   ]
  },
  {
   "cell_type": "markdown",
   "id": "6752d7fe-2d51-4c03-90dd-ced0ff851279",
   "metadata": {},
   "source": [
    "#  <span style=\"color: mediumpurple\"> All Done! Any Questions?  </span>"
   ]
  },
  {
   "cell_type": "markdown",
   "id": "ef1e0b66-af84-43f0-abd8-98b653e5a7a3",
   "metadata": {},
   "source": [
    "<img src=\"https://i.pinimg.com/originals/a6/70/91/a67091c003173f3cd58801f345392dde.gif\" alt=\"Alternative Text\" width=\"300\" height=\"200\">\n"
   ]
  }
 ],
 "metadata": {
  "kernelspec": {
   "display_name": "Python 3 (ipykernel)",
   "language": "python",
   "name": "python3"
  },
  "language_info": {
   "codemirror_mode": {
    "name": "ipython",
    "version": 3
   },
   "file_extension": ".py",
   "mimetype": "text/x-python",
   "name": "python",
   "nbconvert_exporter": "python",
   "pygments_lexer": "ipython3",
   "version": "3.11.4"
  }
 },
 "nbformat": 4,
 "nbformat_minor": 5
}
