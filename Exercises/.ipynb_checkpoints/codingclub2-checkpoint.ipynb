{
 "cells": [
  {
   "cell_type": "markdown",
   "id": "c855d0b3-b813-4c8b-ae81-1eebc99ebcd9",
   "metadata": {},
   "source": [
    "# [Strings](https://docs.python.org/3/library/stdtypes.html#text-sequence-type-str)"
   ]
  },
  {
   "cell_type": "markdown",
   "id": "69a72486-8e65-4659-90a8-cfe2e08c9021",
   "metadata": {},
   "source": [
    "#### Strings are a sequence of characters - this can be letters, numbers, symbols, or even spaces. When you want to work with words or sentences while coding, ou put them inside a string. It's like putting the words or letters inside a container so that the computer knows, \"Hey, this is a bunch of text, not numbers.\""
   ]
  },
  {
   "cell_type": "markdown",
   "id": "af5788b5-09e8-463b-9aba-a987f86903ac",
   "metadata": {},
   "source": [
    "##### Let's make a string! Strings must be contained in either quotation marks or apostrophe's. "
   ]
  },
  {
   "cell_type": "markdown",
   "id": "eb1623a9-4150-4fed-a4fb-9b3befcf4112",
   "metadata": {},
   "source": [
    "####  <span style=\"color:purple\">Exercise 1: Make a string titled \"my_string\" and print it out</span> "
   ]
  },
  {
   "cell_type": "markdown",
   "id": "12bfa03e-56ce-4c13-8d79-e357c9e86d27",
   "metadata": {},
   "source": [
    "<details>\n",
    "  <summary style=\"color: red;\">Click to reveal answer</summary>\n",
    "  \n",
    "my_string = \"I love coding club!\"\n",
    "    \n",
    "my_string\n",
    "\n",
    "\n",
    "  \n",
    " \n",
    "</details>\n"
   ]
  },
  {
   "cell_type": "markdown",
   "id": "a9d85376-dcbc-4ccb-ae8c-1504daa7d294",
   "metadata": {},
   "source": [
    "***"
   ]
  },
  {
   "cell_type": "markdown",
   "id": "b3e22ad8-c1b6-4448-b229-6cb2e700788e",
   "metadata": {},
   "source": [
    "### <span style=\"color:palevioletred\">f-strings</span>"
   ]
  },
  {
   "cell_type": "markdown",
   "id": "679bb9d7-9c17-432f-8464-19e501ae03e5",
   "metadata": {
    "tags": []
   },
   "source": [
    "#### In coding, we often need to create messages that include both text (like words and sentences) and values (like numbers). F-strings are a special way to easily mix these two things together in Python. \n",
    "\n",
    "#### **This will be especially useful when coding in psychopy!** "
   ]
  },
  {
   "cell_type": "markdown",
   "id": "3221feb6-7683-4c2b-acf2-d0e6f599ed86",
   "metadata": {},
   "source": [
    "##### You start an f-string with the letter \"f\" before your string of text. Then, you can put curly braces {} inside the string where you want to include values. These curly braces act like placeholders, and you can put variables or expressions inside them. When you run the code, Python replaces the curly braces with the actual values.\n",
    "\n",
    "##### For example: Wilbur is 2 years old"
   ]
  },
  {
   "cell_type": "code",
   "execution_count": 23,
   "id": "c7fae3f6-d9af-4f2f-bb04-38403fb8c7ff",
   "metadata": {},
   "outputs": [
    {
     "name": "stdout",
     "output_type": "stream",
     "text": [
      "Wilbur is 2 years old! \n"
     ]
    }
   ],
   "source": [
    "kitty_cat_age = 2\n",
    "\n",
    "message = f\"Wilbur is {kitty_cat_age} years old! \"\n",
    "\n",
    "print(message)"
   ]
  },
  {
   "cell_type": "markdown",
   "id": "1d8d07bf-3a56-445c-8d9a-79f222ec4a66",
   "metadata": {
    "tags": []
   },
   "source": [
    "####  <span style=\"color:purple\">Exercise 2: Replicate this sentence \"Hi, my friend Alice! We've been friends for 3 years.\" Use the variables \"friend_name\" and \"years_known\" to code in the corresponding info  </span> "
   ]
  },
  {
   "cell_type": "markdown",
   "id": "e4d04fdc-f5a6-48af-8d4d-b685d80df175",
   "metadata": {},
   "source": [
    "<details>\n",
    "  <summary style=\"color: red;\">Click to reveal answer</summary>\n",
    "  \n",
    "friend_name = \"Alice\"\n",
    "years_known = 3\n",
    "\n",
    "message = f\"Hi, my friend {friend_name}! We've been friends for {years_known} years.\"\n",
    "\n",
    "print(message)\n",
    "\n",
    "\n",
    "  \n",
    " \n",
    "</details>\n"
   ]
  },
  {
   "cell_type": "markdown",
   "id": "d51bb588-130f-4927-8fa9-1413e0075a6c",
   "metadata": {},
   "source": [
    "***"
   ]
  },
  {
   "cell_type": "markdown",
   "id": "4cfbc747-56f1-40ca-a58e-06a2eb5cfe03",
   "metadata": {},
   "source": [
    "#### Here are some helpful pages for some more string functions you can use!\n",
    "\n",
    "- https://jerry-git.github.io/learn-python3/notebooks/beginner/html/01_strings.html\n",
    "- https://www.codecademy.com/learn/learn-python-3/modules/learn-python3-strings/cheatsheet"
   ]
  },
  {
   "cell_type": "markdown",
   "id": "68b7c580-fbd6-4e3d-ab02-eb3aa43571f3",
   "metadata": {},
   "source": [
    "#### If you ever need help or want a quick overview of a built in python function, you can always use help(function_name) to get some quick info!\n",
    "\n",
    "##### Heres an example on using help to explain the function str.join :"
   ]
  },
  {
   "cell_type": "code",
   "execution_count": 13,
   "id": "9381be85-c02f-48c1-8611-161b6f2e6df5",
   "metadata": {},
   "outputs": [],
   "source": [
    "help(str.join)"
   ]
  },
  {
   "cell_type": "markdown",
   "id": "0be73270-e880-4d94-ab2c-ec090a76c86b",
   "metadata": {},
   "source": [
    "***"
   ]
  },
  {
   "cell_type": "markdown",
   "id": "076fefad-8a16-4a49-a00a-90ecfcb4991c",
   "metadata": {},
   "source": [
    "# [Numbers](https://jerry-git.github.io/learn-python3/notebooks/beginner/html/02_numbers.html)"
   ]
  },
  {
   "cell_type": "markdown",
   "id": "0f31be2b-3f99-4868-bc5d-cff0781ec2a5",
   "metadata": {},
   "source": [
    "#### In Python, there are several different types of number formats that you can work with. Here are some main types:"
   ]
  },
  {
   "cell_type": "markdown",
   "id": "1416b274-bf1d-4dfa-ba4b-03060bbdc38e",
   "metadata": {
    "tags": []
   },
   "source": [
    "###  <span style=\"color:palevioletred\">Integer ('int') </span>"
   ]
  },
  {
   "cell_type": "markdown",
   "id": "a31e2e68-b0de-4902-887a-f9e40cee1368",
   "metadata": {
    "tags": []
   },
   "source": [
    "#####  Integers are whole numbers, both positive and negative, without any decimal points. They are used for counting, indexing, and performing arithmetic operations on whole numbers."
   ]
  },
  {
   "cell_type": "code",
   "execution_count": 24,
   "id": "34d03a2b-f15a-4c56-b475-0267f25c8361",
   "metadata": {},
   "outputs": [],
   "source": [
    "x = 5"
   ]
  },
  {
   "cell_type": "markdown",
   "id": "d73e52d5-c213-43b3-b213-154a9136ef4d",
   "metadata": {},
   "source": [
    "###  <span style=\"color:palevioletred\">Float ('float') </span>"
   ]
  },
  {
   "cell_type": "markdown",
   "id": "9d77d022-14ae-4136-9392-d08a721f3c26",
   "metadata": {},
   "source": [
    "##### Floats are numbers with decimal points. Floats are used for precise calculations that involve decimal fractions."
   ]
  },
  {
   "cell_type": "code",
   "execution_count": 26,
   "id": "10e4888f-3df9-4db5-97a1-71f2a8744f07",
   "metadata": {},
   "outputs": [],
   "source": [
    "pi = 3.14159"
   ]
  },
  {
   "cell_type": "markdown",
   "id": "ddb8de3e-16d1-4dab-916a-c676ceb6571f",
   "metadata": {},
   "source": [
    "###  <span style=\"color:palevioletred\">Complex ('complex') </span>"
   ]
  },
  {
   "cell_type": "markdown",
   "id": "4740c5ea-35df-4b5f-98f5-af08ea9c9e1b",
   "metadata": {},
   "source": [
    "##### Complex numbers consist of a real part and an imaginary part. "
   ]
  },
  {
   "cell_type": "code",
   "execution_count": 27,
   "id": "ffe67d23-0ba3-4dd1-9c01-3dc22b1f26ea",
   "metadata": {},
   "outputs": [
    {
     "data": {
      "text/plain": [
       "(-4+7j)"
      ]
     },
     "execution_count": 27,
     "metadata": {},
     "output_type": "execute_result"
    }
   ],
   "source": [
    "z = 2 + 3j\n",
    "x = 1+ 2j\n",
    "z*x"
   ]
  },
  {
   "cell_type": "markdown",
   "id": "4a90b9f8-8cbc-425d-b76c-7f5312900aad",
   "metadata": {},
   "source": [
    "###  <span style=\"color:palevioletred\">Boolean ('bool') </span>"
   ]
  },
  {
   "cell_type": "markdown",
   "id": "0c70dad6-6a7e-444d-867c-3abd534c9a27",
   "metadata": {},
   "source": [
    "##### While not strictly a number format, booleans are used to represent true and false values. They are often used in conditional statements and logical operations."
   ]
  },
  {
   "cell_type": "code",
   "execution_count": 30,
   "id": "9d9ef1d6-c4b7-4293-b8f6-e19816d2e546",
   "metadata": {},
   "outputs": [],
   "source": [
    "is_hot = True\n",
    "is_cold = False"
   ]
  },
  {
   "cell_type": "markdown",
   "id": "d491febf-74ad-425b-ab8d-a7c0eceecff8",
   "metadata": {},
   "source": [
    "*** "
   ]
  },
  {
   "cell_type": "markdown",
   "id": "9b0d3d97-ed0a-45ba-9a4e-a1cf21163ff1",
   "metadata": {},
   "source": [
    "###  <span style=\"color:palevioletred\">Math Operations! </span>"
   ]
  },
  {
   "cell_type": "markdown",
   "id": "580e714f-76f7-4b24-9a90-ea1900c0a74b",
   "metadata": {},
   "source": [
    "#### Besides the common math operations, some useful math operators in python include floor division, modulus and power  "
   ]
  },
  {
   "cell_type": "code",
   "execution_count": 33,
   "id": "0e29f51e-4a42-4dd5-b980-1ac8223232af",
   "metadata": {},
   "outputs": [
    {
     "data": {
      "text/plain": [
       "1"
      ]
     },
     "execution_count": 33,
     "metadata": {},
     "output_type": "execute_result"
    }
   ],
   "source": [
    "9 // 5"
   ]
  },
  {
   "cell_type": "code",
   "execution_count": 34,
   "id": "439c5510-8b9c-4baf-8cc6-cc624a99ee4e",
   "metadata": {},
   "outputs": [
    {
     "data": {
      "text/plain": [
       "2"
      ]
     },
     "execution_count": 34,
     "metadata": {},
     "output_type": "execute_result"
    }
   ],
   "source": [
    "7 % 5"
   ]
  },
  {
   "cell_type": "code",
   "execution_count": 35,
   "id": "dbc1cd0a-32f6-4a4e-a6ee-86f37715f388",
   "metadata": {},
   "outputs": [
    {
     "data": {
      "text/plain": [
       "8"
      ]
     },
     "execution_count": 35,
     "metadata": {},
     "output_type": "execute_result"
    }
   ],
   "source": [
    "2 ** 3"
   ]
  },
  {
   "cell_type": "markdown",
   "id": "8de426bf-8cf4-452b-a240-d2940cbc60f7",
   "metadata": {},
   "source": [
    "#### **Keep in mind that mathematical precedence applies !**"
   ]
  },
  {
   "cell_type": "code",
   "execution_count": 45,
   "id": "f3971401-5fd9-4370-8884-be3e4f482b55",
   "metadata": {},
   "outputs": [
    {
     "name": "stdout",
     "output_type": "stream",
     "text": [
      "3.0\n",
      "2.5\n"
     ]
    }
   ],
   "source": [
    "print(1 + 2**2 * 3 / 6)\n",
    "print((1 + 2**2) * 3 / 6)"
   ]
  },
  {
   "cell_type": "markdown",
   "id": "5b7b043b-3cfe-4b67-b7fe-b18b61c02620",
   "metadata": {},
   "source": [
    "*** "
   ]
  },
  {
   "cell_type": "markdown",
   "id": "37c1370a-ec01-48b1-bcee-2b457cc628f9",
   "metadata": {},
   "source": [
    "####  <span style=\"color:purple\">Exercise 3: Solve the following mathematical formula in python given that a = 2, b =3, and c = 2. Store each integer under the corresponding variable name  </span> "
   ]
  },
  {
   "cell_type": "markdown",
   "id": "479a8b2a-0b16-4483-b224-5bb02699246e",
   "metadata": {},
   "source": [
    " $result = 6a^{3}- \\frac{8b^{2}}{4c}+11$"
   ]
  },
  {
   "cell_type": "code",
   "execution_count": 49,
   "id": "e7f0744d-011b-4cab-ad06-182d042f41c7",
   "metadata": {},
   "outputs": [],
   "source": [
    "# Your formula here: \n",
    "result = "
   ]
  },
  {
   "cell_type": "code",
   "execution_count": 50,
   "id": "e35e19ea-5d48-4b7b-9aa1-bb7c1f542186",
   "metadata": {},
   "outputs": [
    {
     "ename": "AssertionError",
     "evalue": "",
     "output_type": "error",
     "traceback": [
      "\u001b[0;31m---------------------------------------------------------------------------\u001b[0m",
      "\u001b[0;31mAssertionError\u001b[0m                            Traceback (most recent call last)",
      "\u001b[0;32m/var/folders/mp/9ydvy8fs7nqb9h4j545cqv900000gn/T/ipykernel_14855/3209009256.py\u001b[0m in \u001b[0;36m<module>\u001b[0;34m\u001b[0m\n\u001b[0;32m----> 1\u001b[0;31m \u001b[0;32massert\u001b[0m \u001b[0mresult\u001b[0m \u001b[0;34m==\u001b[0m \u001b[0;36m50\u001b[0m\u001b[0;34m\u001b[0m\u001b[0;34m\u001b[0m\u001b[0m\n\u001b[0m",
      "\u001b[0;31mAssertionError\u001b[0m: "
     ]
    }
   ],
   "source": [
    "assert result == 50"
   ]
  },
  {
   "cell_type": "markdown",
   "id": "f696fff4-d865-43a1-ac27-596b736165df",
   "metadata": {},
   "source": [
    "<details>\n",
    "  <summary style=\"color: red;\">Click to reveal answer</summary>\n",
    "  \n",
    "a =2\n",
    "b = 3\n",
    "c = 2\n",
    "\n",
    "result = 6*(a*a) - 8*((b*b)/(4*c)) + 11\n",
    "  \n",
    "assert result == 50\n",
    "    \n",
    "</details>"
   ]
  },
  {
   "cell_type": "markdown",
   "id": "c21f8ea7-523f-406b-9d2c-4ab2a3982f27",
   "metadata": {},
   "source": [
    "*** "
   ]
  },
  {
   "cell_type": "markdown",
   "id": "2611c67e-5abc-4248-8e31-80e614052093",
   "metadata": {},
   "source": [
    "# [Conditionals](https://docs.python.org/3/c-api/bool.html?highlight=boolean)"
   ]
  },
  {
   "cell_type": "markdown",
   "id": "25f7d69b-d8a3-4499-9cee-c814f9940892",
   "metadata": {},
   "source": [
    "#### Boolean operators are used to perform logical operations on boolean values, which are values that can be either True or False. These operators allow you to combine, manipulate, and compare boolean values to make decisions in your code."
   ]
  },
  {
   "cell_type": "markdown",
   "id": "c07e6fbc-30af-4436-8a8e-83239bc4c5da",
   "metadata": {},
   "source": [
    "###  <span style=\"color:palevioletred\">AND ('and') </span>"
   ]
  },
  {
   "cell_type": "markdown",
   "id": "44737f51-4dc0-4abb-9fb0-bb36299f288e",
   "metadata": {},
   "source": [
    "##### Returns 'True' if **both operators are True**, and 'False' otherwise"
   ]
  },
  {
   "cell_type": "code",
   "execution_count": 55,
   "id": "465d4e85-971f-4cb4-a0e9-91dc5300313a",
   "metadata": {},
   "outputs": [
    {
     "data": {
      "text/plain": [
       "True"
      ]
     },
     "execution_count": 55,
     "metadata": {},
     "output_type": "execute_result"
    }
   ],
   "source": [
    "is_raining = True\n",
    "has_umbrella = True\n",
    "should_take_umbrella = is_raining and has_umbrella  \n",
    "\n",
    "should_take_umbrella"
   ]
  },
  {
   "cell_type": "markdown",
   "id": "b2bbe888-31d2-4a3e-9936-93b987962d9b",
   "metadata": {},
   "source": [
    "###  <span style=\"color:palevioletred\">OR('or') </span>"
   ]
  },
  {
   "cell_type": "markdown",
   "id": "98d0bdfd-4b91-4161-80ba-3b38498156c1",
   "metadata": {},
   "source": [
    "##### Returns 'True' if **at least one of the operands is True**, and 'False' if both operands are False."
   ]
  },
  {
   "cell_type": "code",
   "execution_count": 57,
   "id": "cf49fa73-fa09-433a-af52-32752eee7056",
   "metadata": {},
   "outputs": [
    {
     "data": {
      "text/plain": [
       "True"
      ]
     },
     "execution_count": 57,
     "metadata": {},
     "output_type": "execute_result"
    }
   ],
   "source": [
    "is_raining = True\n",
    "is_sunny = False\n",
    "should_stay_inside = is_raining or is_sunny \n",
    "\n",
    "should_stay_inside"
   ]
  },
  {
   "cell_type": "markdown",
   "id": "2a87a651-3523-4342-a5e6-3b419151b110",
   "metadata": {},
   "source": [
    "###  <span style=\"color:palevioletred\">NOT('not') </span>"
   ]
  },
  {
   "cell_type": "markdown",
   "id": "f29ce7ba-3850-42b5-8dee-15d73b029133",
   "metadata": {},
   "source": [
    "##### Negates the value of a boolean expression. Returns 'True' if the expression is False, and 'False' if the expression is True."
   ]
  },
  {
   "cell_type": "code",
   "execution_count": 58,
   "id": "1706cc9c-e516-4baa-bdd1-87e0528b564b",
   "metadata": {},
   "outputs": [
    {
     "data": {
      "text/plain": [
       "False"
      ]
     },
     "execution_count": 58,
     "metadata": {},
     "output_type": "execute_result"
    }
   ],
   "source": [
    "is_raining = True\n",
    "is_not_raining = not is_raining  \n",
    "\n",
    "is_not_raining"
   ]
  },
  {
   "cell_type": "markdown",
   "id": "1d76aa26-e31a-4e11-8cb6-d50fbcc72c6c",
   "metadata": {},
   "source": [
    "*** "
   ]
  },
  {
   "cell_type": "markdown",
   "id": "d4399ebb-6953-4ee8-a606-1a6f9c54e90a",
   "metadata": {},
   "source": [
    "#### A very critical part of coding is understanding if and if-else statements, especially when designing behavior studies as these statements are used to make decisions in your code. They work using boolean logic, helping your program do different things based on whether a certain condition is true or false "
   ]
  },
  {
   "cell_type": "markdown",
   "id": "3524c6a1-4fb1-455d-af2c-aedfe68b4a10",
   "metadata": {},
   "source": [
    "###  <span style=\"color:palevioletred\"> if statement </span>"
   ]
  },
  {
   "cell_type": "markdown",
   "id": "c6ef6150-2996-4eb1-a4a8-3732202ec163",
   "metadata": {},
   "source": [
    "##### An \"if\" statement checks a condition and executes a block of code **only if** the condition is **true**"
   ]
  },
  {
   "cell_type": "code",
   "execution_count": 2,
   "id": "05800156-6202-401b-bf88-e6f2f64f299a",
   "metadata": {},
   "outputs": [
    {
     "name": "stdout",
     "output_type": "stream",
     "text": [
      "statement is True\n"
     ]
    }
   ],
   "source": [
    "statement = True\n",
    "if statement:\n",
    "    print(\"statement is True\")\n",
    "\n",
    "if not statement:\n",
    "    print(\"statement is not True\")"
   ]
  },
  {
   "cell_type": "code",
   "execution_count": 3,
   "id": "ed7b7876-22d8-4272-b97f-91a25d71f2ec",
   "metadata": {},
   "outputs": [
    {
     "name": "stdout",
     "output_type": "stream",
     "text": [
      "Value is positive and less than one or value is three\n"
     ]
    }
   ],
   "source": [
    "val = 3\n",
    "if 0 <= val < 1 or val == 3:\n",
    "    print(\"Value is positive and less than one or value is three\")"
   ]
  },
  {
   "cell_type": "markdown",
   "id": "d650fa4e-fbf9-4f59-b7b9-330be2e2072d",
   "metadata": {},
   "source": [
    "###  <span style=\"color:palevioletred\"> if-else statement </span>"
   ]
  },
  {
   "cell_type": "markdown",
   "id": "ae1c9866-bcbe-4bd2-a9fa-0639259bd520",
   "metadata": {},
   "source": [
    "##### An \"if-else\" statement extends the \"if\" statement by providing an alternative code block to run if the condition is false.\n",
    "\n"
   ]
  },
  {
   "cell_type": "code",
   "execution_count": 6,
   "id": "dcae8729-0637-47c1-accd-74484b28339a",
   "metadata": {},
   "outputs": [
    {
     "name": "stdout",
     "output_type": "stream",
     "text": [
      "Denied!\n"
     ]
    }
   ],
   "source": [
    "age = 20\n",
    "if age >= 21:\n",
    "    print(\"You can get into the club!\")\n",
    "else:\n",
    "    print(\"Denied!\")"
   ]
  },
  {
   "cell_type": "markdown",
   "id": "d3647c35-eff3-4ee0-948a-019d29630395",
   "metadata": {},
   "source": [
    "###  <span style=\"color:palevioletred\"> if-elif-else statement </span>"
   ]
  },
  {
   "cell_type": "markdown",
   "id": "4e0eb515-c3eb-4430-a23e-ef0f6f15e10c",
   "metadata": {},
   "source": [
    "##### When you need to check multiple conditions, you can use \"if-elif-else\" statements. \"elif\" stands for \"else if\" and allows you to check additional conditions."
   ]
  },
  {
   "cell_type": "code",
   "execution_count": 7,
   "id": "94d7e76d-0eb8-4dea-801e-8d7c33e2637e",
   "metadata": {},
   "outputs": [
    {
     "name": "stdout",
     "output_type": "stream",
     "text": [
      "Hello fellow Pythonista!\n"
     ]
    }
   ],
   "source": [
    "greeting = \"Hello fellow Pythonista!\"\n",
    "language = \"Italian\"\n",
    "\n",
    "if language == \"Swedish\":\n",
    "    greeting = \"Hejsan!\"\n",
    "elif language == \"Finnish\":\n",
    "    greeting = \"Latua perkele!\"\n",
    "elif language == \"Spanish\":\n",
    "    greeting = \"Hola!\"\n",
    "elif language == \"German\":\n",
    "    greeting = \"Guten Tag!\"\n",
    "\n",
    "print(greeting)"
   ]
  },
  {
   "cell_type": "markdown",
   "id": "01cdc825-b89e-48d8-ae17-0cfbaf4c3e95",
   "metadata": {},
   "source": [
    "*** "
   ]
  },
  {
   "cell_type": "markdown",
   "id": "836ef13a-3088-4b27-8bb3-b225b236631a",
   "metadata": {},
   "source": [
    "####  <span style=\"color:purple\">Exercise 4: Fill missing pieces (____) of the following code such that prints make sense. Hint: you will need to determine the length of the string.   </span>"
   ]
  },
  {
   "cell_type": "code",
   "execution_count": 16,
   "id": "1373ac31-3940-4a49-a737-ec18489255fa",
   "metadata": {},
   "outputs": [],
   "source": [
    "name = \"John Doe\""
   ]
  },
  {
   "cell_type": "code",
   "execution_count": 9,
   "id": "c081d010-5e8f-49a9-8fb2-ed2f5002e3bf",
   "metadata": {},
   "outputs": [
    {
     "ename": "NameError",
     "evalue": "name '____' is not defined",
     "output_type": "error",
     "traceback": [
      "\u001b[0;31m---------------------------------------------------------------------------\u001b[0m",
      "\u001b[0;31mNameError\u001b[0m                                 Traceback (most recent call last)",
      "\u001b[0;32m/var/folders/mp/9ydvy8fs7nqb9h4j545cqv900000gn/T/ipykernel_16280/2835776336.py\u001b[0m in \u001b[0;36m<module>\u001b[0;34m\u001b[0m\n\u001b[0;32m----> 1\u001b[0;31m \u001b[0;32mif\u001b[0m \u001b[0m____\u001b[0m\u001b[0;34m:\u001b[0m\u001b[0;34m\u001b[0m\u001b[0;34m\u001b[0m\u001b[0m\n\u001b[0m\u001b[1;32m      2\u001b[0m     \u001b[0mprint\u001b[0m\u001b[0;34m(\u001b[0m\u001b[0;34mf'Name \"{name}\" is more than 20 chars long'\u001b[0m\u001b[0;34m)\u001b[0m\u001b[0;34m\u001b[0m\u001b[0;34m\u001b[0m\u001b[0m\n\u001b[1;32m      3\u001b[0m     \u001b[0mlength_description\u001b[0m \u001b[0;34m=\u001b[0m \u001b[0;34m\"long\"\u001b[0m\u001b[0;34m\u001b[0m\u001b[0;34m\u001b[0m\u001b[0m\n\u001b[1;32m      4\u001b[0m \u001b[0;32melif\u001b[0m \u001b[0m____\u001b[0m\u001b[0;34m:\u001b[0m\u001b[0;34m\u001b[0m\u001b[0;34m\u001b[0m\u001b[0m\n\u001b[1;32m      5\u001b[0m     \u001b[0mprint\u001b[0m\u001b[0;34m(\u001b[0m\u001b[0;34mf'Name \"{name}\" is more than 15 chars long'\u001b[0m\u001b[0;34m)\u001b[0m\u001b[0;34m\u001b[0m\u001b[0;34m\u001b[0m\u001b[0m\n",
      "\u001b[0;31mNameError\u001b[0m: name '____' is not defined"
     ]
    }
   ],
   "source": [
    "if ____:\n",
    "    print(f'Name \"{name}\" is more than 20 chars long')\n",
    "    length_description = \"long\"\n",
    "elif ____:\n",
    "    print(f'Name \"{name}\" is more than 15 chars long')\n",
    "    length_description = \"semi long\"\n",
    "elif ____:\n",
    "    print(f'Name \"{name}\" is more than 10 chars long')\n",
    "    length_description = \"semi long\"\n",
    "elif ____:\n",
    "    print(f'Name \"{name}\" is 8, 9 or 10 chars long')\n",
    "    length_description = \"semi short\"\n",
    "else:\n",
    "    print(f'Name \"{name}\" is a short name')\n",
    "    length_description = \"short\""
   ]
  },
  {
   "cell_type": "code",
   "execution_count": 15,
   "id": "db91b6dc-9fc0-46b8-a147-91d4d8075874",
   "metadata": {},
   "outputs": [
    {
     "ename": "AssertionError",
     "evalue": "",
     "output_type": "error",
     "traceback": [
      "\u001b[0;31m---------------------------------------------------------------------------\u001b[0m",
      "\u001b[0;31mAssertionError\u001b[0m                            Traceback (most recent call last)",
      "\u001b[0;32m/var/folders/mp/9ydvy8fs7nqb9h4j545cqv900000gn/T/ipykernel_16280/508527419.py\u001b[0m in \u001b[0;36m<module>\u001b[0;34m\u001b[0m\n\u001b[0;32m----> 1\u001b[0;31m \u001b[0;32massert\u001b[0m \u001b[0mlength_description\u001b[0m \u001b[0;34m==\u001b[0m \u001b[0;34m\"semi short\"\u001b[0m\u001b[0;34m\u001b[0m\u001b[0;34m\u001b[0m\u001b[0m\n\u001b[0m",
      "\u001b[0;31mAssertionError\u001b[0m: "
     ]
    }
   ],
   "source": [
    "assert length_description == \"semi short\""
   ]
  },
  {
   "cell_type": "markdown",
   "id": "e5c2c20f-e720-4933-845a-bd5f8a7e19af",
   "metadata": {},
   "source": [
    "#### Here is a more detailed overview of conditional statements if you would like some more practice!\n",
    "\n",
    "- https://realpython.com/python-conditional-statements/"
   ]
  },
  {
   "cell_type": "markdown",
   "id": "71c9280b-3c4a-4110-bcef-da01d28fb31d",
   "metadata": {},
   "source": [
    "*** "
   ]
  },
  {
   "cell_type": "markdown",
   "id": "15d894ec-c987-4185-9821-a974695da46d",
   "metadata": {},
   "source": [
    "#  <span style=\"color: mediumpurple\"> All Done! Any Questions?  </span>"
   ]
  },
  {
   "cell_type": "markdown",
   "id": "459a0a41-34c8-46af-b7df-a2d65977c7d7",
   "metadata": {
    "tags": []
   },
   "source": [
    "![alternatvie text](https://www.pbh2.com/wordpress/wp-content/uploads/2013/12/pusheen-party.gif)"
   ]
  }
 ],
 "metadata": {
  "kernelspec": {
   "display_name": "Python 3 (ipykernel)",
   "language": "python",
   "name": "python3"
  },
  "language_info": {
   "codemirror_mode": {
    "name": "ipython",
    "version": 3
   },
   "file_extension": ".py",
   "mimetype": "text/x-python",
   "name": "python",
   "nbconvert_exporter": "python",
   "pygments_lexer": "ipython3",
   "version": "3.9.13"
  }
 },
 "nbformat": 4,
 "nbformat_minor": 5
}
